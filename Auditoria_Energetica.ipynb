{
  "nbformat": 4,
  "nbformat_minor": 0,
  "metadata": {
    "colab": {
      "name": "Auditoria-Energetica.ipynb",
      "provenance": [],
      "collapsed_sections": [
        "c-IVG13aqYpQ",
        "5jPkv2y3D0f-",
        "0X7h4ypyECg-",
        "JgomxIR6AmIm",
        "qmizI6ZkJ9ee",
        "VF52T5MmOJfE",
        "FN6ZNv-F9nfi",
        "ZeBrkYXBqKMt"
      ],
      "authorship_tag": "ABX9TyPXMM0ht+OSbkksfHFpTD5+",
      "include_colab_link": true
    },
    "kernelspec": {
      "name": "python3",
      "display_name": "Python 3"
    },
    "language_info": {
      "name": "python"
    }
  },
  "cells": [
    {
      "cell_type": "markdown",
      "metadata": {
        "id": "view-in-github",
        "colab_type": "text"
      },
      "source": [
        "<a href=\"https://colab.research.google.com/github/andreviniciusmb/teste-vetta/blob/main/Auditoria_Energetica.ipynb\" target=\"_parent\"><img src=\"https://colab.research.google.com/assets/colab-badge.svg\" alt=\"Open In Colab\"/></a>"
      ]
    },
    {
      "cell_type": "markdown",
      "metadata": {
        "id": "ZvtBRJqzBsDK"
      },
      "source": [
        "### Código para conectar o drive com o colab, desde maneira, podemos importar os datasets armazenados no drive."
      ]
    },
    {
      "cell_type": "code",
      "metadata": {
        "colab": {
          "base_uri": "https://localhost:8080/",
          "height": 0
        },
        "id": "2R2TebQRmeia",
        "outputId": "61446b7f-227e-4d51-8565-c96426f8bfb1"
      },
      "source": [
        "from google.colab import drive\n",
        "drive.mount('/content/drive')"
      ],
      "execution_count": 19,
      "outputs": [
        {
          "output_type": "stream",
          "text": [
            "Drive already mounted at /content/drive; to attempt to forcibly remount, call drive.mount(\"/content/drive\", force_remount=True).\n"
          ],
          "name": "stdout"
        }
      ]
    },
    {
      "cell_type": "markdown",
      "metadata": {
        "id": "ZBgUwVdBmeV_"
      },
      "source": [
        "# Auditória Energética\n",
        "*Esse projeto tem como <b>objetivo gerar importantes insights</b> para a Arnis sobre a plataforma Viridis, de modo que ela perceba como a plataforma pode ajudar a <b>reduzir o consumo de energia, melhorar a eficiência energética, reduzir custos e, o mais importante, reduzir o impacto ambiental de seus operações, criando valor no curto e no longo prazo</b>. \\\n",
        "Incialmente começarei importando algumas <b>bibliotecas</b> que serão importantes para o desenvolvimento do projeto, que são elas: <b>Pandas</b>, essa biblioteca servirá principalmente para a parte de ETL (Extração, transformação e carga dos dados) ou seja, manipulação dos dados. Usaremos também as bibliotecas: <b>Matplotlib</b> e <b>Seaborn</b>, elas permitiram que façamos o uso de gráficos e componentes visuais.*"
      ]
    },
    {
      "cell_type": "code",
      "metadata": {
        "id": "fvLfNQpDiQ0Q"
      },
      "source": [
        "import pandas as pd\n",
        "import numpy as np\n",
        "import matplotlib.pyplot as plt\n",
        "import seaborn as sns\n",
        "from sklearn.model_selection import train_test_split\n",
        "from sklearn.ensemble import RandomForestRegressor\n",
        "from sklearn.linear_model import LinearRegression\n",
        "from sklearn import metrics"
      ],
      "execution_count": 20,
      "outputs": []
    },
    {
      "cell_type": "markdown",
      "metadata": {
        "id": "aKZFvsWboqe6"
      },
      "source": [
        "*Agora, importaremos os datasets e faremos uma análise de algumas informações básicas do dataset como, tamanho, colunas, quais dados são categóricos, quais são numéricos, compos com valores nulos e uma descrição.*"
      ]
    },
    {
      "cell_type": "code",
      "metadata": {
        "id": "vb9ddoP-pghv"
      },
      "source": [
        "dados_materia_prima = pd.read_csv('drive/My Drive/teste-vetta/datasets/raw_material_data.csv')\n",
        "dados_forno = pd.read_csv('drive/My Drive/teste-vetta/datasets/furnace_data.csv')"
      ],
      "execution_count": 21,
      "outputs": []
    },
    {
      "cell_type": "markdown",
      "metadata": {
        "id": "eeJLFIDTMO_d"
      },
      "source": [
        "*Abaixo temos uma legenda de algumas colunas utilizadas no dataset.*\n",
        "* ID:\tid unico\n",
        "* RawMaterialType1:\tTipo de materia prima 1\n",
        "* RawMaterialType2:\tTipo de materia prima 2\n",
        "* ChargeMaterial_Type99:\tQuantidade carregada do tipo de materia prima não registrada (diferente da 1 e 2)\n",
        "* ChargeMaterial_Type1:\tQuantidade carregada do tipo de materia prima 1\n",
        "* ChargeMaterial_Type2:\tQuantidade carregada do tipo de materia prima 2\n",
        "* TotalCharge_sumAllTypes:\tCarregamento Total (Deve ser igual à soma dos carregamentos, mas \n",
        "* FinalHeatWeight:\tQuantidade de Materia Prima que foi convertida em aço\n",
        "* Yield:\tRendimento\n",
        "* Tap_to_Tap:\tTempo total da corrida (corrida = tempo que este ID levou para acontecer)\n",
        "* Power_ON:\tTempo em que o forno estava ligado\n",
        "* Power_OFF:\tTempo em que o forno estava desligado\n",
        "* kWh_per_ton:\tKilowatt hora de energia elétrica por tonelada\n",
        "* NaturalGas_Nm3_t:\tNormal Metro cúbico de gás natural por tonelada\n",
        "* Oxygen_Nm3_t:\tNormal Metro cúbico de oxigênio por tonelada\n",
        "* Carbon_kg_t:\tKilograma de carbono injetado por tonelada\n",
        "* InitalTemperature:\tTemperatura inicial do forno\n",
        "* RawMaterial_InitialTemperature:\tTemperatura inicial da materia prima\n",
        "* ProductionDate:\tData"
      ]
    },
    {
      "cell_type": "markdown",
      "metadata": {
        "id": "c-IVG13aqYpQ"
      },
      "source": [
        "## Analisando o dataset sobre matéria-prima\n",
        "*Comaçaremos pelo dataset sobre a materia-prima utilizada na empresa. Temos um dataset com <b>677 linhas e 6 colunas</b>, abaixo temos o nome das colunas utilizadas no dataset e uma visão de algumas linhas do dataset.*"
      ]
    },
    {
      "cell_type": "code",
      "metadata": {
        "colab": {
          "base_uri": "https://localhost:8080/",
          "height": 272
        },
        "id": "LbXwo7ykq7Mu",
        "outputId": "a39ce435-5533-455a-db97-63796339d5e7"
      },
      "source": [
        "print('Linhas: {} - Colunas: {}'.format(dados_materia_prima.shape[0],dados_materia_prima.shape[1]))\n",
        "print('Colunas: ' , dados_materia_prima.columns)\n",
        "dados_materia_prima.head()"
      ],
      "execution_count": null,
      "outputs": [
        {
          "output_type": "stream",
          "text": [
            "Linhas: 677 - Colunas: 6\n",
            "Colunas:  Index(['Date', 'Feature 1', 'Feature 2', 'Feature 3', 'Feature 4',\n",
            "       'Feature 5'],\n",
            "      dtype='object')\n"
          ],
          "name": "stdout"
        },
        {
          "output_type": "execute_result",
          "data": {
            "text/html": [
              "<div>\n",
              "<style scoped>\n",
              "    .dataframe tbody tr th:only-of-type {\n",
              "        vertical-align: middle;\n",
              "    }\n",
              "\n",
              "    .dataframe tbody tr th {\n",
              "        vertical-align: top;\n",
              "    }\n",
              "\n",
              "    .dataframe thead th {\n",
              "        text-align: right;\n",
              "    }\n",
              "</style>\n",
              "<table border=\"1\" class=\"dataframe\">\n",
              "  <thead>\n",
              "    <tr style=\"text-align: right;\">\n",
              "      <th></th>\n",
              "      <th>Date</th>\n",
              "      <th>Feature 1</th>\n",
              "      <th>Feature 2</th>\n",
              "      <th>Feature 3</th>\n",
              "      <th>Feature 4</th>\n",
              "      <th>Feature 5</th>\n",
              "    </tr>\n",
              "  </thead>\n",
              "  <tbody>\n",
              "    <tr>\n",
              "      <th>0</th>\n",
              "      <td>2019-01-01 23:00:00</td>\n",
              "      <td>89.816109</td>\n",
              "      <td>85.691910</td>\n",
              "      <td>97.518526</td>\n",
              "      <td>2.060734</td>\n",
              "      <td>6.905721</td>\n",
              "    </tr>\n",
              "    <tr>\n",
              "      <th>1</th>\n",
              "      <td>2019-01-02 23:00:00</td>\n",
              "      <td>89.615403</td>\n",
              "      <td>84.946413</td>\n",
              "      <td>96.886647</td>\n",
              "      <td>2.550413</td>\n",
              "      <td>6.996453</td>\n",
              "    </tr>\n",
              "    <tr>\n",
              "      <th>2</th>\n",
              "      <td>2019-01-03 02:00:00</td>\n",
              "      <td>89.625438</td>\n",
              "      <td>85.016933</td>\n",
              "      <td>96.956222</td>\n",
              "      <td>2.550413</td>\n",
              "      <td>2.583849</td>\n",
              "    </tr>\n",
              "    <tr>\n",
              "      <th>3</th>\n",
              "      <td>2019-01-04 23:00:00</td>\n",
              "      <td>89.705721</td>\n",
              "      <td>85.228493</td>\n",
              "      <td>97.110505</td>\n",
              "      <td>2.570817</td>\n",
              "      <td>2.576792</td>\n",
              "    </tr>\n",
              "    <tr>\n",
              "      <th>4</th>\n",
              "      <td>2019-01-05 23:00:00</td>\n",
              "      <td>89.946569</td>\n",
              "      <td>85.500499</td>\n",
              "      <td>97.159572</td>\n",
              "      <td>2.407590</td>\n",
              "      <td>2.572759</td>\n",
              "    </tr>\n",
              "  </tbody>\n",
              "</table>\n",
              "</div>"
            ],
            "text/plain": [
              "                  Date  Feature 1  Feature 2  Feature 3  Feature 4  Feature 5\n",
              "0  2019-01-01 23:00:00  89.816109  85.691910  97.518526   2.060734   6.905721\n",
              "1  2019-01-02 23:00:00  89.615403  84.946413  96.886647   2.550413   6.996453\n",
              "2  2019-01-03 02:00:00  89.625438  85.016933  96.956222   2.550413   2.583849\n",
              "3  2019-01-04 23:00:00  89.705721  85.228493  97.110505   2.570817   2.576792\n",
              "4  2019-01-05 23:00:00  89.946569  85.500499  97.159572   2.407590   2.572759"
            ]
          },
          "metadata": {
            "tags": []
          },
          "execution_count": 4
        }
      ]
    },
    {
      "cell_type": "markdown",
      "metadata": {
        "id": "yMs9YGsg1XMV"
      },
      "source": [
        "*Aqui, estarei olhando as <b>informações</b> das colunas do dataset relacionado com <b>matéria prima</b>. Podemos ver que temos uma coluna do tipo object, uma variável categórica e o restante das colunas são variáveis contínuas do tipo float.*"
      ]
    },
    {
      "cell_type": "code",
      "metadata": {
        "id": "3MLkpdH3rt1B",
        "colab": {
          "base_uri": "https://localhost:8080/"
        },
        "outputId": "dc561a06-d6da-481f-a29b-98a39044d2a5"
      },
      "source": [
        "dados_materia_prima.info()"
      ],
      "execution_count": null,
      "outputs": [
        {
          "output_type": "stream",
          "text": [
            "<class 'pandas.core.frame.DataFrame'>\n",
            "RangeIndex: 677 entries, 0 to 676\n",
            "Data columns (total 6 columns):\n",
            " #   Column     Non-Null Count  Dtype  \n",
            "---  ------     --------------  -----  \n",
            " 0   Date       676 non-null    object \n",
            " 1   Feature 1  672 non-null    float64\n",
            " 2   Feature 2  672 non-null    float64\n",
            " 3   Feature 3  672 non-null    float64\n",
            " 4   Feature 4  673 non-null    float64\n",
            " 5   Feature 5  358 non-null    float64\n",
            "dtypes: float64(5), object(1)\n",
            "memory usage: 31.9+ KB\n"
          ],
          "name": "stdout"
        }
      ]
    },
    {
      "cell_type": "markdown",
      "metadata": {
        "id": "HeJqwis92NKd"
      },
      "source": [
        "*Usaremos agora, o método <b>describe</b> para visualizarmos algumas informações como média, mediana, quantidade, maior valor, dentre outras... \\\n",
        "Em uma análise inicial, podemos ver que o <b>valor médio</b> das features 1,2 e 3 se encontram próximos, e também apresentam um <b>desvio padrão pequeno</b>, indicando uma distribuição com valores próximos, sem muita variação. E por último, percebemos que a <b>feature 5</b>, apresenta mais da metade dos <b>dados faltantes</b>, logo, caso formos construir um modelo e essa variável for utilizada precisamos ou tirá-la ou imputar valores seguindo alguma técnica (média, mediana, valor padrão, moda...)*\n",
        "\n"
      ]
    },
    {
      "cell_type": "code",
      "metadata": {
        "colab": {
          "base_uri": "https://localhost:8080/",
          "height": 297
        },
        "id": "ychGsV1h1ij6",
        "outputId": "5bf773ae-e0ee-4ae7-e814-a44e6f983d5b"
      },
      "source": [
        "dados_materia_prima.describe()"
      ],
      "execution_count": null,
      "outputs": [
        {
          "output_type": "execute_result",
          "data": {
            "text/html": [
              "<div>\n",
              "<style scoped>\n",
              "    .dataframe tbody tr th:only-of-type {\n",
              "        vertical-align: middle;\n",
              "    }\n",
              "\n",
              "    .dataframe tbody tr th {\n",
              "        vertical-align: top;\n",
              "    }\n",
              "\n",
              "    .dataframe thead th {\n",
              "        text-align: right;\n",
              "    }\n",
              "</style>\n",
              "<table border=\"1\" class=\"dataframe\">\n",
              "  <thead>\n",
              "    <tr style=\"text-align: right;\">\n",
              "      <th></th>\n",
              "      <th>Feature 1</th>\n",
              "      <th>Feature 2</th>\n",
              "      <th>Feature 3</th>\n",
              "      <th>Feature 4</th>\n",
              "      <th>Feature 5</th>\n",
              "    </tr>\n",
              "  </thead>\n",
              "  <tbody>\n",
              "    <tr>\n",
              "      <th>count</th>\n",
              "      <td>672.000000</td>\n",
              "      <td>672.000000</td>\n",
              "      <td>672.000000</td>\n",
              "      <td>673.000000</td>\n",
              "      <td>358.000000</td>\n",
              "    </tr>\n",
              "    <tr>\n",
              "      <th>mean</th>\n",
              "      <td>90.885662</td>\n",
              "      <td>86.210286</td>\n",
              "      <td>96.950231</td>\n",
              "      <td>2.175059</td>\n",
              "      <td>4.773507</td>\n",
              "    </tr>\n",
              "    <tr>\n",
              "      <th>std</th>\n",
              "      <td>1.049032</td>\n",
              "      <td>1.458945</td>\n",
              "      <td>0.870144</td>\n",
              "      <td>0.239721</td>\n",
              "      <td>0.758966</td>\n",
              "    </tr>\n",
              "    <tr>\n",
              "      <th>min</th>\n",
              "      <td>87.317315</td>\n",
              "      <td>70.520030</td>\n",
              "      <td>82.549350</td>\n",
              "      <td>1.530248</td>\n",
              "      <td>2.156400</td>\n",
              "    </tr>\n",
              "    <tr>\n",
              "      <th>25%</th>\n",
              "      <td>89.863777</td>\n",
              "      <td>85.125231</td>\n",
              "      <td>96.531648</td>\n",
              "      <td>2.019927</td>\n",
              "      <td>4.554751</td>\n",
              "    </tr>\n",
              "    <tr>\n",
              "      <th>50%</th>\n",
              "      <td>90.709253</td>\n",
              "      <td>86.135179</td>\n",
              "      <td>96.943734</td>\n",
              "      <td>2.162750</td>\n",
              "      <td>4.684297</td>\n",
              "    </tr>\n",
              "    <tr>\n",
              "      <th>75%</th>\n",
              "      <td>91.923526</td>\n",
              "      <td>87.336538</td>\n",
              "      <td>97.434197</td>\n",
              "      <td>2.346380</td>\n",
              "      <td>4.867777</td>\n",
              "    </tr>\n",
              "    <tr>\n",
              "      <th>max</th>\n",
              "      <td>92.826705</td>\n",
              "      <td>89.187689</td>\n",
              "      <td>98.375144</td>\n",
              "      <td>2.815656</td>\n",
              "      <td>7.631578</td>\n",
              "    </tr>\n",
              "  </tbody>\n",
              "</table>\n",
              "</div>"
            ],
            "text/plain": [
              "        Feature 1   Feature 2   Feature 3   Feature 4   Feature 5\n",
              "count  672.000000  672.000000  672.000000  673.000000  358.000000\n",
              "mean    90.885662   86.210286   96.950231    2.175059    4.773507\n",
              "std      1.049032    1.458945    0.870144    0.239721    0.758966\n",
              "min     87.317315   70.520030   82.549350    1.530248    2.156400\n",
              "25%     89.863777   85.125231   96.531648    2.019927    4.554751\n",
              "50%     90.709253   86.135179   96.943734    2.162750    4.684297\n",
              "75%     91.923526   87.336538   97.434197    2.346380    4.867777\n",
              "max     92.826705   89.187689   98.375144    2.815656    7.631578"
            ]
          },
          "metadata": {
            "tags": []
          },
          "execution_count": 6
        }
      ]
    },
    {
      "cell_type": "markdown",
      "metadata": {
        "id": "sPYa3AkA4-HL"
      },
      "source": [
        "*Já na célula abaixo, estamos olhando somente a coluna categórica Date, vimos que <b>grande parte das informações são únicas</b>, ou seja, cada informação foi coletada em determinado horário e data. Vimos também que a <b>última informação coletada</b> foi no dia 15/10/2019 às 23h.*"
      ]
    },
    {
      "cell_type": "code",
      "metadata": {
        "colab": {
          "base_uri": "https://localhost:8080/",
          "height": 173
        },
        "id": "07Tj83A22wvY",
        "outputId": "47b19333-125e-4290-fc07-87d51ab2b7aa"
      },
      "source": [
        "dados_materia_prima.describe(include=[object])"
      ],
      "execution_count": null,
      "outputs": [
        {
          "output_type": "execute_result",
          "data": {
            "text/html": [
              "<div>\n",
              "<style scoped>\n",
              "    .dataframe tbody tr th:only-of-type {\n",
              "        vertical-align: middle;\n",
              "    }\n",
              "\n",
              "    .dataframe tbody tr th {\n",
              "        vertical-align: top;\n",
              "    }\n",
              "\n",
              "    .dataframe thead th {\n",
              "        text-align: right;\n",
              "    }\n",
              "</style>\n",
              "<table border=\"1\" class=\"dataframe\">\n",
              "  <thead>\n",
              "    <tr style=\"text-align: right;\">\n",
              "      <th></th>\n",
              "      <th>Date</th>\n",
              "    </tr>\n",
              "  </thead>\n",
              "  <tbody>\n",
              "    <tr>\n",
              "      <th>count</th>\n",
              "      <td>676</td>\n",
              "    </tr>\n",
              "    <tr>\n",
              "      <th>unique</th>\n",
              "      <td>672</td>\n",
              "    </tr>\n",
              "    <tr>\n",
              "      <th>top</th>\n",
              "      <td>2019-10-15 23:00:00</td>\n",
              "    </tr>\n",
              "    <tr>\n",
              "      <th>freq</th>\n",
              "      <td>2</td>\n",
              "    </tr>\n",
              "  </tbody>\n",
              "</table>\n",
              "</div>"
            ],
            "text/plain": [
              "                       Date\n",
              "count                   676\n",
              "unique                  672\n",
              "top     2019-10-15 23:00:00\n",
              "freq                      2"
            ]
          },
          "metadata": {
            "tags": []
          },
          "execution_count": 17
        }
      ]
    },
    {
      "cell_type": "markdown",
      "metadata": {
        "id": "5xy-xuI_-Ar4"
      },
      "source": [
        "*Podemos ver abaixo que a coluna com mais valores nulos é <b>Feature 5</b>.*"
      ]
    },
    {
      "cell_type": "code",
      "metadata": {
        "colab": {
          "base_uri": "https://localhost:8080/"
        },
        "id": "wrxYr0pB-EAg",
        "outputId": "91d08211-cb19-4697-a87f-d56e8eba0e2b"
      },
      "source": [
        "dados_materia_prima.isnull().sum().sort_values()"
      ],
      "execution_count": null,
      "outputs": [
        {
          "output_type": "execute_result",
          "data": {
            "text/plain": [
              "Date           1\n",
              "Feature 4      4\n",
              "Feature 1      5\n",
              "Feature 2      5\n",
              "Feature 3      5\n",
              "Feature 5    319\n",
              "dtype: int64"
            ]
          },
          "metadata": {
            "tags": []
          },
          "execution_count": 18
        }
      ]
    },
    {
      "cell_type": "markdown",
      "metadata": {
        "id": "YxlbLajl770x"
      },
      "source": [
        "*Aqui, plotaremos uma tabela de correlação entre as variáveis. Percebemos que <b>Feature 1 e feature 2</b> e <b>Feature 2 e feature 3</b> possuem uma forte correlação positiva entre si.*"
      ]
    },
    {
      "cell_type": "code",
      "metadata": {
        "colab": {
          "base_uri": "https://localhost:8080/",
          "height": 204
        },
        "id": "N2iCiPEr8Dz3",
        "outputId": "2f7d1a93-2cc4-4105-a6eb-5c805f953317"
      },
      "source": [
        "dados_materia_prima.corr()"
      ],
      "execution_count": null,
      "outputs": [
        {
          "output_type": "execute_result",
          "data": {
            "text/html": [
              "<div>\n",
              "<style scoped>\n",
              "    .dataframe tbody tr th:only-of-type {\n",
              "        vertical-align: middle;\n",
              "    }\n",
              "\n",
              "    .dataframe tbody tr th {\n",
              "        vertical-align: top;\n",
              "    }\n",
              "\n",
              "    .dataframe thead th {\n",
              "        text-align: right;\n",
              "    }\n",
              "</style>\n",
              "<table border=\"1\" class=\"dataframe\">\n",
              "  <thead>\n",
              "    <tr style=\"text-align: right;\">\n",
              "      <th></th>\n",
              "      <th>Feature 1</th>\n",
              "      <th>Feature 2</th>\n",
              "      <th>Feature 3</th>\n",
              "      <th>Feature 4</th>\n",
              "      <th>Feature 5</th>\n",
              "    </tr>\n",
              "  </thead>\n",
              "  <tbody>\n",
              "    <tr>\n",
              "      <th>Feature 1</th>\n",
              "      <td>1.000000</td>\n",
              "      <td>0.874653</td>\n",
              "      <td>0.365246</td>\n",
              "      <td>-0.424461</td>\n",
              "      <td>-0.143191</td>\n",
              "    </tr>\n",
              "    <tr>\n",
              "      <th>Feature 2</th>\n",
              "      <td>0.874653</td>\n",
              "      <td>1.000000</td>\n",
              "      <td>0.770615</td>\n",
              "      <td>-0.395325</td>\n",
              "      <td>-0.068514</td>\n",
              "    </tr>\n",
              "    <tr>\n",
              "      <th>Feature 3</th>\n",
              "      <td>0.365246</td>\n",
              "      <td>0.770615</td>\n",
              "      <td>1.000000</td>\n",
              "      <td>-0.196996</td>\n",
              "      <td>0.059375</td>\n",
              "    </tr>\n",
              "    <tr>\n",
              "      <th>Feature 4</th>\n",
              "      <td>-0.424461</td>\n",
              "      <td>-0.395325</td>\n",
              "      <td>-0.196996</td>\n",
              "      <td>1.000000</td>\n",
              "      <td>-0.064534</td>\n",
              "    </tr>\n",
              "    <tr>\n",
              "      <th>Feature 5</th>\n",
              "      <td>-0.143191</td>\n",
              "      <td>-0.068514</td>\n",
              "      <td>0.059375</td>\n",
              "      <td>-0.064534</td>\n",
              "      <td>1.000000</td>\n",
              "    </tr>\n",
              "  </tbody>\n",
              "</table>\n",
              "</div>"
            ],
            "text/plain": [
              "           Feature 1  Feature 2  Feature 3  Feature 4  Feature 5\n",
              "Feature 1   1.000000   0.874653   0.365246  -0.424461  -0.143191\n",
              "Feature 2   0.874653   1.000000   0.770615  -0.395325  -0.068514\n",
              "Feature 3   0.365246   0.770615   1.000000  -0.196996   0.059375\n",
              "Feature 4  -0.424461  -0.395325  -0.196996   1.000000  -0.064534\n",
              "Feature 5  -0.143191  -0.068514   0.059375  -0.064534   1.000000"
            ]
          },
          "metadata": {
            "tags": []
          },
          "execution_count": 19
        }
      ]
    },
    {
      "cell_type": "markdown",
      "metadata": {
        "id": "AJh1qg0n50h4"
      },
      "source": [
        "*E para finalizar essa parte de análise incial no dataset sobre as matérias primas, plotarei um gráfico para visualizar a relação entre as variáveis. \\\n",
        "<b>Informações visualizadas:</b>*\n",
        "\n",
        "*   A distribuição da variável <b> Feature 4</b> se assemelha a uma distruição normal\n",
        "*   Temos um <b>possível outlier</b> em Feature 1, Feature 2 e Feature 3\n",
        "* E a variável <b>Feature 5</b> pode ser divida em 2 grupos."
      ]
    },
    {
      "cell_type": "code",
      "metadata": {
        "colab": {
          "base_uri": "https://localhost:8080/",
          "height": 920
        },
        "id": "h7bUo7bn4v_q",
        "outputId": "a987178a-debf-488f-8c29-639bd7381a6e"
      },
      "source": [
        "sns.pairplot(dados_materia_prima)"
      ],
      "execution_count": null,
      "outputs": [
        {
          "output_type": "execute_result",
          "data": {
            "text/plain": [
              "<seaborn.axisgrid.PairGrid at 0x7f23e153dd10>"
            ]
          },
          "metadata": {
            "tags": []
          },
          "execution_count": 20
        },
        {
          "output_type": "display_data",
          "data": {
            "image/png": "[encoded data removed]",
            "text/plain": [
              "<Figure size 900x900 with 30 Axes>"
            ]
          },
          "metadata": {
            "tags": [],
            "needs_background": "light"
          }
        }
      ]
    },
    {
      "cell_type": "markdown",
      "metadata": {
        "id": "kpBYZuPQ9ozR"
      },
      "source": [
        "## Analisando o dataset sobre o forno\n",
        "*Comaçaremos pelo dataset sobre a materia-prima utilizada na empresa. Temos um dataset com <b>16.723 linhas e 19 colunas</b>, abaixo temos o nome das colunas utilizadas no dataset e uma visão de algumas linhas do dataset.*"
      ]
    },
    {
      "cell_type": "code",
      "metadata": {
        "colab": {
          "base_uri": "https://localhost:8080/",
          "height": 377
        },
        "id": "I8B2pk4U9ozh",
        "outputId": "ae014bd8-394c-42d1-d377-b3c804cb8f1b"
      },
      "source": [
        "print('Linhas: {} - Colunas: {}'.format(dados_forno.shape[0],dados_forno.shape[1]))\n",
        "print('Colunas: ' , dados_forno.columns)\n",
        "dados_forno.head()"
      ],
      "execution_count": null,
      "outputs": [
        {
          "output_type": "stream",
          "text": [
            "Linhas: 16723 - Colunas: 19\n",
            "Colunas:  Index(['Unnamed: 0', 'RawMaterialType1', 'RawMaterialType2',\n",
            "       'ChargeMaterial_Type99', 'ChargeMaterial_Type1', 'ChargeMaterial_Type2',\n",
            "       'TotalCharge_sumAllTypes', 'FinalHeatWeight', 'Yield', 'Tap_to_Tap',\n",
            "       'Power_ON', 'Power_OFF', 'kWh_per_ton', 'NaturalGas_Nm3_t',\n",
            "       'Oxygen_Nm3_t', 'Carbon_kg_t', 'InitalTemperature',\n",
            "       'RawMaterial_InitialTemperature', 'ProductionDate'],\n",
            "      dtype='object')\n"
          ],
          "name": "stdout"
        },
        {
          "output_type": "execute_result",
          "data": {
            "text/html": [
              "<div>\n",
              "<style scoped>\n",
              "    .dataframe tbody tr th:only-of-type {\n",
              "        vertical-align: middle;\n",
              "    }\n",
              "\n",
              "    .dataframe tbody tr th {\n",
              "        vertical-align: top;\n",
              "    }\n",
              "\n",
              "    .dataframe thead th {\n",
              "        text-align: right;\n",
              "    }\n",
              "</style>\n",
              "<table border=\"1\" class=\"dataframe\">\n",
              "  <thead>\n",
              "    <tr style=\"text-align: right;\">\n",
              "      <th></th>\n",
              "      <th>Unnamed: 0</th>\n",
              "      <th>RawMaterialType1</th>\n",
              "      <th>RawMaterialType2</th>\n",
              "      <th>ChargeMaterial_Type99</th>\n",
              "      <th>ChargeMaterial_Type1</th>\n",
              "      <th>ChargeMaterial_Type2</th>\n",
              "      <th>TotalCharge_sumAllTypes</th>\n",
              "      <th>FinalHeatWeight</th>\n",
              "      <th>Yield</th>\n",
              "      <th>Tap_to_Tap</th>\n",
              "      <th>Power_ON</th>\n",
              "      <th>Power_OFF</th>\n",
              "      <th>kWh_per_ton</th>\n",
              "      <th>NaturalGas_Nm3_t</th>\n",
              "      <th>Oxygen_Nm3_t</th>\n",
              "      <th>Carbon_kg_t</th>\n",
              "      <th>InitalTemperature</th>\n",
              "      <th>RawMaterial_InitialTemperature</th>\n",
              "      <th>ProductionDate</th>\n",
              "    </tr>\n",
              "  </thead>\n",
              "  <tbody>\n",
              "    <tr>\n",
              "      <th>0</th>\n",
              "      <td>0</td>\n",
              "      <td>RawMaterialHot3</td>\n",
              "      <td>NaN</td>\n",
              "      <td>22.620874</td>\n",
              "      <td>178.230034</td>\n",
              "      <td>NaN</td>\n",
              "      <td>200.850909</td>\n",
              "      <td>129.002979</td>\n",
              "      <td>64.228228</td>\n",
              "      <td>62.143001</td>\n",
              "      <td>57.607472</td>\n",
              "      <td>4.547516</td>\n",
              "      <td>623.286155</td>\n",
              "      <td>4.243831</td>\n",
              "      <td>61.894745</td>\n",
              "      <td>33.286255</td>\n",
              "      <td>1729.636046</td>\n",
              "      <td>463.353003</td>\n",
              "      <td>2019-01-01</td>\n",
              "    </tr>\n",
              "    <tr>\n",
              "      <th>1</th>\n",
              "      <td>1</td>\n",
              "      <td>RawMaterialHot3</td>\n",
              "      <td>NaN</td>\n",
              "      <td>NaN</td>\n",
              "      <td>167.424553</td>\n",
              "      <td>NaN</td>\n",
              "      <td>167.424553</td>\n",
              "      <td>130.020636</td>\n",
              "      <td>77.659241</td>\n",
              "      <td>48.447261</td>\n",
              "      <td>43.170218</td>\n",
              "      <td>5.422430</td>\n",
              "      <td>479.024764</td>\n",
              "      <td>2.063817</td>\n",
              "      <td>39.428434</td>\n",
              "      <td>23.405620</td>\n",
              "      <td>1696.228745</td>\n",
              "      <td>446.679316</td>\n",
              "      <td>2019-01-01</td>\n",
              "    </tr>\n",
              "    <tr>\n",
              "      <th>2</th>\n",
              "      <td>2</td>\n",
              "      <td>RawMaterialHot3</td>\n",
              "      <td>NaN</td>\n",
              "      <td>15.423323</td>\n",
              "      <td>126.397474</td>\n",
              "      <td>NaN</td>\n",
              "      <td>141.820797</td>\n",
              "      <td>132.604687</td>\n",
              "      <td>93.501580</td>\n",
              "      <td>106.037661</td>\n",
              "      <td>44.491274</td>\n",
              "      <td>65.771123</td>\n",
              "      <td>462.362279</td>\n",
              "      <td>2.700406</td>\n",
              "      <td>39.866427</td>\n",
              "      <td>28.714682</td>\n",
              "      <td>1735.024320</td>\n",
              "      <td>462.475441</td>\n",
              "      <td>2019-01-01</td>\n",
              "    </tr>\n",
              "    <tr>\n",
              "      <th>3</th>\n",
              "      <td>3</td>\n",
              "      <td>RawMaterialHot3</td>\n",
              "      <td>NaN</td>\n",
              "      <td>NaN</td>\n",
              "      <td>149.145804</td>\n",
              "      <td>NaN</td>\n",
              "      <td>149.145804</td>\n",
              "      <td>128.214794</td>\n",
              "      <td>85.966075</td>\n",
              "      <td>43.961052</td>\n",
              "      <td>38.810734</td>\n",
              "      <td>5.310522</td>\n",
              "      <td>426.540126</td>\n",
              "      <td>1.880451</td>\n",
              "      <td>36.993015</td>\n",
              "      <td>19.640511</td>\n",
              "      <td>1704.849984</td>\n",
              "      <td>452.822253</td>\n",
              "      <td>2019-01-01</td>\n",
              "    </tr>\n",
              "    <tr>\n",
              "      <th>4</th>\n",
              "      <td>4</td>\n",
              "      <td>RawMaterialHot3</td>\n",
              "      <td>NaN</td>\n",
              "      <td>NaN</td>\n",
              "      <td>149.189741</td>\n",
              "      <td>NaN</td>\n",
              "      <td>149.189741</td>\n",
              "      <td>130.230154</td>\n",
              "      <td>87.291628</td>\n",
              "      <td>43.866206</td>\n",
              "      <td>38.735245</td>\n",
              "      <td>5.290175</td>\n",
              "      <td>424.213267</td>\n",
              "      <td>1.834266</td>\n",
              "      <td>35.368881</td>\n",
              "      <td>17.568409</td>\n",
              "      <td>1681.141577</td>\n",
              "      <td>443.169066</td>\n",
              "      <td>2019-01-01</td>\n",
              "    </tr>\n",
              "  </tbody>\n",
              "</table>\n",
              "</div>"
            ],
            "text/plain": [
              "   Unnamed: 0 RawMaterialType1  ... RawMaterial_InitialTemperature  ProductionDate\n",
              "0           0  RawMaterialHot3  ...                     463.353003      2019-01-01\n",
              "1           1  RawMaterialHot3  ...                     446.679316      2019-01-01\n",
              "2           2  RawMaterialHot3  ...                     462.475441      2019-01-01\n",
              "3           3  RawMaterialHot3  ...                     452.822253      2019-01-01\n",
              "4           4  RawMaterialHot3  ...                     443.169066      2019-01-01\n",
              "\n",
              "[5 rows x 19 columns]"
            ]
          },
          "metadata": {
            "tags": []
          },
          "execution_count": 11
        }
      ]
    },
    {
      "cell_type": "markdown",
      "metadata": {
        "id": "1zH-j8Xs9ozj"
      },
      "source": [
        "*Aqui, estarei olhando as <b>informações</b> das colunas do dataset relacionado com o <b>forno</b>. Podemos ver que temos uma coluna do tipo int, algumas variáveis categóricas e a maioria das colunas são variáveis contínuas do tipo float.*"
      ]
    },
    {
      "cell_type": "code",
      "metadata": {
        "colab": {
          "base_uri": "https://localhost:8080/"
        },
        "id": "oWTns8oY9ozk",
        "outputId": "7dbe891a-0ee1-413b-941e-321cdeffaa61"
      },
      "source": [
        "dados_forno.info()"
      ],
      "execution_count": null,
      "outputs": [
        {
          "output_type": "stream",
          "text": [
            "<class 'pandas.core.frame.DataFrame'>\n",
            "RangeIndex: 16723 entries, 0 to 16722\n",
            "Data columns (total 19 columns):\n",
            " #   Column                          Non-Null Count  Dtype  \n",
            "---  ------                          --------------  -----  \n",
            " 0   Unnamed: 0                      16723 non-null  int64  \n",
            " 1   RawMaterialType1                15418 non-null  object \n",
            " 2   RawMaterialType2                4434 non-null   object \n",
            " 3   ChargeMaterial_Type99           2893 non-null   float64\n",
            " 4   ChargeMaterial_Type1            15418 non-null  float64\n",
            " 5   ChargeMaterial_Type2            4434 non-null   float64\n",
            " 6   TotalCharge_sumAllTypes         16723 non-null  float64\n",
            " 7   FinalHeatWeight                 16722 non-null  float64\n",
            " 8   Yield                           16722 non-null  float64\n",
            " 9   Tap_to_Tap                      16722 non-null  float64\n",
            " 10  Power_ON                        16722 non-null  float64\n",
            " 11  Power_OFF                       16722 non-null  float64\n",
            " 12  kWh_per_ton                     16721 non-null  float64\n",
            " 13  NaturalGas_Nm3_t                16720 non-null  float64\n",
            " 14  Oxygen_Nm3_t                    16720 non-null  float64\n",
            " 15  Carbon_kg_t                     16715 non-null  float64\n",
            " 16  InitalTemperature               16679 non-null  float64\n",
            " 17  RawMaterial_InitialTemperature  15330 non-null  float64\n",
            " 18  ProductionDate                  16722 non-null  object \n",
            "dtypes: float64(15), int64(1), object(3)\n",
            "memory usage: 2.4+ MB\n"
          ],
          "name": "stdout"
        }
      ]
    },
    {
      "cell_type": "markdown",
      "metadata": {
        "id": "Xnt-thYm9ozk"
      },
      "source": [
        "*Usaremos agora, o método <b>describe</b> para visualizarmos algumas informações como média, mediana, quantidade, maior valor, dentre outras... \\\n",
        "Em uma análise inicial, podemos ver que a variável KWh_per_ton, que representa a quantidade de Kilowatt hora de energia elétrica por tonelada possui uma alta amplitude e alto desvio padrão. Fato semelhante em ChargeMaterial_Type2, que representa a quantidade carregada do tipo de materia prima 2. Nessa situação podemos pensar em situações totalmente distintas em uma possível modelagem, falta de padronização, ou fator natural dos dados.*\n",
        "\n"
      ]
    },
    {
      "cell_type": "code",
      "metadata": {
        "colab": {
          "base_uri": "https://localhost:8080/",
          "height": 317
        },
        "id": "xWUrz2k79ozk",
        "outputId": "3a5432b2-aa70-48c7-b54c-851f47ea0005"
      },
      "source": [
        "dados_forno.describe()"
      ],
      "execution_count": null,
      "outputs": [
        {
          "output_type": "execute_result",
          "data": {
            "text/html": [
              "<div>\n",
              "<style scoped>\n",
              "    .dataframe tbody tr th:only-of-type {\n",
              "        vertical-align: middle;\n",
              "    }\n",
              "\n",
              "    .dataframe tbody tr th {\n",
              "        vertical-align: top;\n",
              "    }\n",
              "\n",
              "    .dataframe thead th {\n",
              "        text-align: right;\n",
              "    }\n",
              "</style>\n",
              "<table border=\"1\" class=\"dataframe\">\n",
              "  <thead>\n",
              "    <tr style=\"text-align: right;\">\n",
              "      <th></th>\n",
              "      <th>Unnamed: 0</th>\n",
              "      <th>ChargeMaterial_Type99</th>\n",
              "      <th>ChargeMaterial_Type1</th>\n",
              "      <th>ChargeMaterial_Type2</th>\n",
              "      <th>TotalCharge_sumAllTypes</th>\n",
              "      <th>FinalHeatWeight</th>\n",
              "      <th>Yield</th>\n",
              "      <th>Tap_to_Tap</th>\n",
              "      <th>Power_ON</th>\n",
              "      <th>Power_OFF</th>\n",
              "      <th>kWh_per_ton</th>\n",
              "      <th>NaturalGas_Nm3_t</th>\n",
              "      <th>Oxygen_Nm3_t</th>\n",
              "      <th>Carbon_kg_t</th>\n",
              "      <th>InitalTemperature</th>\n",
              "      <th>RawMaterial_InitialTemperature</th>\n",
              "    </tr>\n",
              "  </thead>\n",
              "  <tbody>\n",
              "    <tr>\n",
              "      <th>count</th>\n",
              "      <td>16723.000000</td>\n",
              "      <td>2893.000000</td>\n",
              "      <td>15418.000000</td>\n",
              "      <td>4434.000000</td>\n",
              "      <td>16723.000000</td>\n",
              "      <td>16722.000000</td>\n",
              "      <td>1.672200e+04</td>\n",
              "      <td>16722.000000</td>\n",
              "      <td>16722.000000</td>\n",
              "      <td>16722.000000</td>\n",
              "      <td>16721.000000</td>\n",
              "      <td>16720.000000</td>\n",
              "      <td>16720.000000</td>\n",
              "      <td>16715.000000</td>\n",
              "      <td>1.667900e+04</td>\n",
              "      <td>15330.000000</td>\n",
              "    </tr>\n",
              "    <tr>\n",
              "      <th>mean</th>\n",
              "      <td>8361.000000</td>\n",
              "      <td>30.119819</td>\n",
              "      <td>139.225726</td>\n",
              "      <td>59.942328</td>\n",
              "      <td>149.464998</td>\n",
              "      <td>130.044876</td>\n",
              "      <td>inf</td>\n",
              "      <td>49.677705</td>\n",
              "      <td>38.145490</td>\n",
              "      <td>12.159578</td>\n",
              "      <td>437.928714</td>\n",
              "      <td>2.347193</td>\n",
              "      <td>33.225345</td>\n",
              "      <td>15.892906</td>\n",
              "      <td>2.666787e+03</td>\n",
              "      <td>482.429025</td>\n",
              "    </tr>\n",
              "    <tr>\n",
              "      <th>std</th>\n",
              "      <td>4827.658611</td>\n",
              "      <td>8.080121</td>\n",
              "      <td>17.728929</td>\n",
              "      <td>63.449920</td>\n",
              "      <td>10.583663</td>\n",
              "      <td>3.746047</td>\n",
              "      <td>NaN</td>\n",
              "      <td>20.501712</td>\n",
              "      <td>5.271239</td>\n",
              "      <td>19.882501</td>\n",
              "      <td>58.865613</td>\n",
              "      <td>1.070382</td>\n",
              "      <td>4.857899</td>\n",
              "      <td>4.506370</td>\n",
              "      <td>1.257498e+05</td>\n",
              "      <td>25.508158</td>\n",
              "    </tr>\n",
              "    <tr>\n",
              "      <th>min</th>\n",
              "      <td>0.000000</td>\n",
              "      <td>5.141108</td>\n",
              "      <td>0.010984</td>\n",
              "      <td>0.000000</td>\n",
              "      <td>0.000000</td>\n",
              "      <td>0.000000</td>\n",
              "      <td>0.000000e+00</td>\n",
              "      <td>18.494941</td>\n",
              "      <td>1.868350</td>\n",
              "      <td>1.749827</td>\n",
              "      <td>14.383475</td>\n",
              "      <td>0.000000</td>\n",
              "      <td>7.481355</td>\n",
              "      <td>0.070061</td>\n",
              "      <td>-1.634802e+03</td>\n",
              "      <td>24.571750</td>\n",
              "    </tr>\n",
              "    <tr>\n",
              "      <th>25%</th>\n",
              "      <td>4180.500000</td>\n",
              "      <td>25.705539</td>\n",
              "      <td>133.675022</td>\n",
              "      <td>10.644075</td>\n",
              "      <td>146.310698</td>\n",
              "      <td>128.653783</td>\n",
              "      <td>8.500051e+01</td>\n",
              "      <td>41.333822</td>\n",
              "      <td>35.272192</td>\n",
              "      <td>5.310522</td>\n",
              "      <td>405.519992</td>\n",
              "      <td>1.650919</td>\n",
              "      <td>29.925280</td>\n",
              "      <td>12.614165</td>\n",
              "      <td>1.671443e+03</td>\n",
              "      <td>468.618378</td>\n",
              "    </tr>\n",
              "    <tr>\n",
              "      <th>50%</th>\n",
              "      <td>8361.000000</td>\n",
              "      <td>28.790204</td>\n",
              "      <td>145.906955</td>\n",
              "      <td>25.992596</td>\n",
              "      <td>149.343520</td>\n",
              "      <td>130.509511</td>\n",
              "      <td>8.728518e+01</td>\n",
              "      <td>44.122290</td>\n",
              "      <td>37.225467</td>\n",
              "      <td>6.912835</td>\n",
              "      <td>426.401579</td>\n",
              "      <td>2.084078</td>\n",
              "      <td>32.592379</td>\n",
              "      <td>15.487314</td>\n",
              "      <td>1.692996e+03</td>\n",
              "      <td>483.536941</td>\n",
              "    </tr>\n",
              "    <tr>\n",
              "      <th>75%</th>\n",
              "      <td>12541.500000</td>\n",
              "      <td>32.903090</td>\n",
              "      <td>149.520765</td>\n",
              "      <td>136.313442</td>\n",
              "      <td>151.751062</td>\n",
              "      <td>132.145743</td>\n",
              "      <td>8.960889e+01</td>\n",
              "      <td>52.430786</td>\n",
              "      <td>39.518443</td>\n",
              "      <td>11.261970</td>\n",
              "      <td>452.891844</td>\n",
              "      <td>2.932300</td>\n",
              "      <td>36.009927</td>\n",
              "      <td>18.210615</td>\n",
              "      <td>1.713471e+03</td>\n",
              "      <td>497.577941</td>\n",
              "    </tr>\n",
              "    <tr>\n",
              "      <th>max</th>\n",
              "      <td>16722.000000</td>\n",
              "      <td>112.076150</td>\n",
              "      <td>193.783697</td>\n",
              "      <td>195.997060</td>\n",
              "      <td>229.428572</td>\n",
              "      <td>149.505773</td>\n",
              "      <td>inf</td>\n",
              "      <td>708.517475</td>\n",
              "      <td>111.676401</td>\n",
              "      <td>639.572033</td>\n",
              "      <td>1060.401909</td>\n",
              "      <td>43.272752</td>\n",
              "      <td>88.269393</td>\n",
              "      <td>58.010129</td>\n",
              "      <td>1.624192e+07</td>\n",
              "      <td>555.497066</td>\n",
              "    </tr>\n",
              "  </tbody>\n",
              "</table>\n",
              "</div>"
            ],
            "text/plain": [
              "         Unnamed: 0  ...  RawMaterial_InitialTemperature\n",
              "count  16723.000000  ...                    15330.000000\n",
              "mean    8361.000000  ...                      482.429025\n",
              "std     4827.658611  ...                       25.508158\n",
              "min        0.000000  ...                       24.571750\n",
              "25%     4180.500000  ...                      468.618378\n",
              "50%     8361.000000  ...                      483.536941\n",
              "75%    12541.500000  ...                      497.577941\n",
              "max    16722.000000  ...                      555.497066\n",
              "\n",
              "[8 rows x 16 columns]"
            ]
          },
          "metadata": {
            "tags": []
          },
          "execution_count": 13
        }
      ]
    },
    {
      "cell_type": "markdown",
      "metadata": {
        "id": "VVLKoGSF9ozl"
      },
      "source": [
        "*Já na célula abaixo, vimos na coluna ProductionDate que <b>poucas informações são únicas</b> e a <b>última informação coletada</b> foi no dia 27/06/2020. Percebemos também que temos somente 2 tipos de matérias primas 1 e 2.*"
      ]
    },
    {
      "cell_type": "code",
      "metadata": {
        "colab": {
          "base_uri": "https://localhost:8080/",
          "height": 173
        },
        "id": "WuEQHAp09ozl",
        "outputId": "4f3bbb0e-5c9a-498c-9556-3599bb2620cd"
      },
      "source": [
        "dados_forno.describe(include=[object])"
      ],
      "execution_count": null,
      "outputs": [
        {
          "output_type": "execute_result",
          "data": {
            "text/html": [
              "<div>\n",
              "<style scoped>\n",
              "    .dataframe tbody tr th:only-of-type {\n",
              "        vertical-align: middle;\n",
              "    }\n",
              "\n",
              "    .dataframe tbody tr th {\n",
              "        vertical-align: top;\n",
              "    }\n",
              "\n",
              "    .dataframe thead th {\n",
              "        text-align: right;\n",
              "    }\n",
              "</style>\n",
              "<table border=\"1\" class=\"dataframe\">\n",
              "  <thead>\n",
              "    <tr style=\"text-align: right;\">\n",
              "      <th></th>\n",
              "      <th>RawMaterialType1</th>\n",
              "      <th>RawMaterialType2</th>\n",
              "      <th>ProductionDate</th>\n",
              "    </tr>\n",
              "  </thead>\n",
              "  <tbody>\n",
              "    <tr>\n",
              "      <th>count</th>\n",
              "      <td>15418</td>\n",
              "      <td>4434</td>\n",
              "      <td>16722</td>\n",
              "    </tr>\n",
              "    <tr>\n",
              "      <th>unique</th>\n",
              "      <td>2</td>\n",
              "      <td>2</td>\n",
              "      <td>690</td>\n",
              "    </tr>\n",
              "    <tr>\n",
              "      <th>top</th>\n",
              "      <td>RawMaterialHot1</td>\n",
              "      <td>RawMaterialCold3</td>\n",
              "      <td>2020-06-27</td>\n",
              "    </tr>\n",
              "    <tr>\n",
              "      <th>freq</th>\n",
              "      <td>7853</td>\n",
              "      <td>3050</td>\n",
              "      <td>33</td>\n",
              "    </tr>\n",
              "  </tbody>\n",
              "</table>\n",
              "</div>"
            ],
            "text/plain": [
              "       RawMaterialType1  RawMaterialType2 ProductionDate\n",
              "count             15418              4434          16722\n",
              "unique                2                 2            690\n",
              "top     RawMaterialHot1  RawMaterialCold3     2020-06-27\n",
              "freq               7853              3050             33"
            ]
          },
          "metadata": {
            "tags": []
          },
          "execution_count": 21
        }
      ]
    },
    {
      "cell_type": "markdown",
      "metadata": {
        "id": "f4tHNdP8-TpT"
      },
      "source": [
        "*Podemos ver que a coluna com mais <b>valores faltantes</b> são: Charge Raw Material 99, Charge Raw Material 2, Raw Material 2, Slag Analysis B3, Slag Analysis B2.*"
      ]
    },
    {
      "cell_type": "code",
      "metadata": {
        "colab": {
          "base_uri": "https://localhost:8080/",
          "height": 537
        },
        "id": "YQhPaMPWL81N",
        "outputId": "62f72972-4947-48c4-a3c8-a78dacf0d033"
      },
      "source": [
        "plt.figure(figsize=(8,6))\n",
        "sns.heatmap(dados_forno.isnull(),yticklabels=False,cbar=False)\n",
        "plt.title('Percentual de valores nulos')\n",
        "plt.show()"
      ],
      "execution_count": 96,
      "outputs": [
        {
          "output_type": "display_data",
          "data": {
            "image/png": "[encoded data removed]",
            "text/plain": [
              "<Figure size 576x432 with 1 Axes>"
            ]
          },
          "metadata": {
            "tags": [],
            "needs_background": "light"
          }
        }
      ]
    },
    {
      "cell_type": "code",
      "metadata": {
        "colab": {
          "base_uri": "https://localhost:8080/"
        },
        "id": "8ZpyT1Hb-X_R",
        "outputId": "21792361-27d7-4d6e-f977-7373ac2099bf"
      },
      "source": [
        "dados_forno.isnull().sum().sort_values(ascending=False)"
      ],
      "execution_count": null,
      "outputs": [
        {
          "output_type": "execute_result",
          "data": {
            "text/plain": [
              "ChargeMaterial_Type99             13830\n",
              "ChargeMaterial_Type2              12289\n",
              "RawMaterialType2                  12289\n",
              "RawMaterial_InitialTemperature     1393\n",
              "RawMaterialType1                   1305\n",
              "ChargeMaterial_Type1               1305\n",
              "InitalTemperature                    44\n",
              "Carbon_kg_t                           8\n",
              "Oxygen_Nm3_t                          3\n",
              "NaturalGas_Nm3_t                      3\n",
              "kWh_per_ton                           2\n",
              "ProductionDate                        1\n",
              "Tap_to_Tap                            1\n",
              "FinalHeatWeight                       1\n",
              "Yield                                 1\n",
              "Power_ON                              1\n",
              "Power_OFF                             1\n",
              "TotalCharge_sumAllTypes               0\n",
              "Unnamed: 0                            0\n",
              "dtype: int64"
            ]
          },
          "metadata": {
            "tags": []
          },
          "execution_count": 15
        }
      ]
    },
    {
      "cell_type": "markdown",
      "metadata": {
        "id": "VuUAcRZS9ozm"
      },
      "source": [
        "*Aqui, plotaremos uma tabela de correlação entre as variáveis, usarei um gráfico para uma melhor visualização. Percebemos que uma forte correlação positiva entre:*\n",
        "* *Quantidade carregada do tipo de materia prima do tipo 2 e o consumo de Kilowatt hora de energia elétrica por tonelada*\n",
        "* *Carregamento Total e o consumo de Kilowatt hora de energia elétrica por tonelada*\n",
        "* *Tempo em que o forno estava desligado e o Tempo total da corrida*\n",
        "* *Tempo em que o forno estava ligado e o consumo de Kilowatt hora de energia elétrica por tonelada*"
      ]
    },
    {
      "cell_type": "code",
      "metadata": {
        "colab": {
          "base_uri": "https://localhost:8080/",
          "height": 651
        },
        "id": "dYwmWSSI9ozm",
        "outputId": "499b53f1-37b8-4248-f25b-e7d7e6d9789f"
      },
      "source": [
        "plt.figure(figsize=(8,8))\n",
        "sns.heatmap(dados_forno.corr())"
      ],
      "execution_count": null,
      "outputs": [
        {
          "output_type": "execute_result",
          "data": {
            "text/plain": [
              "<matplotlib.axes._subplots.AxesSubplot at 0x7f23e2e4e750>"
            ]
          },
          "metadata": {
            "tags": []
          },
          "execution_count": 16
        },
        {
          "output_type": "display_data",
          "data": {
            "image/png": "[encoded data removed]",
            "text/plain": [
              "<Figure size 576x576 with 2 Axes>"
            ]
          },
          "metadata": {
            "tags": [],
            "needs_background": "light"
          }
        }
      ]
    },
    {
      "cell_type": "markdown",
      "metadata": {
        "id": "Gby05H0p9prz"
      },
      "source": [
        "## Perguntas"
      ]
    },
    {
      "cell_type": "markdown",
      "metadata": {
        "id": "5jPkv2y3D0f-"
      },
      "source": [
        "### Quais variáveis se correlacionam com consumo de energia?\n",
        "*O tempo em que o forno estava ligado <b>[Power ON, 0.92]</b>, quantidade carregada do tipo de materia prima 2 <b>[ChargeMaterial_Type2, 0.76]</b>, o carregamento total <b>[TotalCharge_sumAllTypes, 0.73]</b> possuem alta correlação com o consumo de energia [kWh_per_ton] e o Kilograma de carbono injetado por tonelada <b>[Carbon_kg_t, 0.55]</b>.*"
      ]
    },
    {
      "cell_type": "code",
      "metadata": {
        "colab": {
          "base_uri": "https://localhost:8080/",
          "height": 634
        },
        "id": "uOdDBUPtKad8",
        "outputId": "c22255c7-13ae-4a1e-dc9e-4504226bcfe1"
      },
      "source": [
        "plt.figure(figsize = (8,8))\n",
        "sns.heatmap(dados_forno.corr())\n",
        "plt.show()"
      ],
      "execution_count": 79,
      "outputs": [
        {
          "output_type": "display_data",
          "data": {
            "image/png": "[encoded data removed]",
            "text/plain": [
              "<Figure size 576x576 with 2 Axes>"
            ]
          },
          "metadata": {
            "tags": [],
            "needs_background": "light"
          }
        }
      ]
    },
    {
      "cell_type": "code",
      "metadata": {
        "id": "drSmaKoq9ozn",
        "colab": {
          "base_uri": "https://localhost:8080/"
        },
        "outputId": "820929c4-0d22-454a-d3cd-25e59522b926"
      },
      "source": [
        "dados_forno.corr()['kWh_per_ton'].sort_values(ascending=False)"
      ],
      "execution_count": null,
      "outputs": [
        {
          "output_type": "execute_result",
          "data": {
            "text/plain": [
              "kWh_per_ton                       1.000000\n",
              "Power_ON                          0.926265\n",
              "ChargeMaterial_Type2              0.764375\n",
              "TotalCharge_sumAllTypes           0.731372\n",
              "Carbon_kg_t                       0.550214\n",
              "Oxygen_Nm3_t                      0.489020\n",
              "NaturalGas_Nm3_t                  0.428266\n",
              "Tap_to_Tap                        0.411530\n",
              "ChargeMaterial_Type99             0.312122\n",
              "Power_OFF                         0.190409\n",
              "InitalTemperature                -0.001673\n",
              "ChargeMaterial_Type1             -0.091763\n",
              "Unnamed: 0                       -0.138534\n",
              "FinalHeatWeight                  -0.252645\n",
              "Yield                            -0.277767\n",
              "RawMaterial_InitialTemperature   -0.438583\n",
              "Name: kWh_per_ton, dtype: float64"
            ]
          },
          "metadata": {
            "tags": []
          },
          "execution_count": 26
        }
      ]
    },
    {
      "cell_type": "markdown",
      "metadata": {
        "id": "0X7h4ypyECg-"
      },
      "source": [
        "### Quais os tipos de matéria prima utilizadas? A matéria prima mais cara e menos usada influencia na produção?\n",
        "*Podemos ver que para aquecer as materias primas 1 e 3 foram utilizadas em proporções semelhantes no tipo 1. E para resfriar, o materia prima 1 foi utilizada mais vezes. Vimos também que uma matéria prima não registrada foi utilizada em 20% dos processos.*"
      ]
    },
    {
      "cell_type": "code",
      "metadata": {
        "colab": {
          "base_uri": "https://localhost:8080/",
          "height": 364
        },
        "id": "WrVcgHxfK64V",
        "outputId": "1c0935b4-dda5-41cc-dfe0-829a58f4df5d"
      },
      "source": [
        "print(dados_forno['RawMaterialType1'].value_counts())\n",
        "print()\n",
        "plt.figure()\n",
        "sns.countplot(x=dados_forno['RawMaterialType1'])\n",
        "plt.title('Quantidade de cada matéria usada como matéria prima 1')\n",
        "plt.ylabel('Quantidade')\n",
        "plt.xlabel('Tipos da matéria prima 1')\n",
        "plt.show()"
      ],
      "execution_count": 87,
      "outputs": [
        {
          "output_type": "stream",
          "text": [
            "RawMaterialHot1    7853\n",
            "RawMaterialHot3    7565\n",
            "Name: RawMaterialType1, dtype: int64\n",
            "\n"
          ],
          "name": "stdout"
        },
        {
          "output_type": "display_data",
          "data": {
            "image/png": "[encoded data removed]",
            "text/plain": [
              "<Figure size 432x288 with 1 Axes>"
            ]
          },
          "metadata": {
            "tags": [],
            "needs_background": "light"
          }
        }
      ]
    },
    {
      "cell_type": "code",
      "metadata": {
        "colab": {
          "base_uri": "https://localhost:8080/",
          "height": 364
        },
        "id": "qdvUS9KnOY1R",
        "outputId": "7017b224-d383-4661-f38e-9c4c40b06362"
      },
      "source": [
        "print(dados_forno['RawMaterialType2'].value_counts())\n",
        "print()\n",
        "plt.figure()\n",
        "sns.countplot(x=dados_forno['RawMaterialType2'])\n",
        "plt.title('Quantidade de cada matéria usada como matéria prima 2')\n",
        "plt.ylabel('Quantidade')\n",
        "plt.xlabel('Tipos da matéria prima 2')\n",
        "plt.show()"
      ],
      "execution_count": 88,
      "outputs": [
        {
          "output_type": "stream",
          "text": [
            "RawMaterialCold3    3050\n",
            "RawMaterialCold1    1384\n",
            "Name: RawMaterialType2, dtype: int64\n",
            "\n"
          ],
          "name": "stdout"
        },
        {
          "output_type": "display_data",
          "data": {
            "image/png": "[encoded data removed]",
            "text/plain": [
              "<Figure size 432x288 with 1 Axes>"
            ]
          },
          "metadata": {
            "tags": [],
            "needs_background": "light"
          }
        }
      ]
    },
    {
      "cell_type": "code",
      "metadata": {
        "colab": {
          "base_uri": "https://localhost:8080/"
        },
        "id": "7oOrbbyVOdE8",
        "outputId": "636c1353-62a1-4209-d31a-d16c382a45cc"
      },
      "source": [
        "# Quantidade de vezes que uma matéria prima não registrada foi utilizada\n",
        "qtd = len(dados_forno['ChargeMaterial_Type99']) - dados_forno['ChargeMaterial_Type99'].isnull().sum()\n",
        "percentual = qtd/len(dados_forno['ChargeMaterial_Type99'])\n",
        "print('Qtd: %d' % qtd)\n",
        "print('Percentual: %.1f' % percentual)"
      ],
      "execution_count": null,
      "outputs": [
        {
          "output_type": "stream",
          "text": [
            "Qtd: 2893\n",
            "Percentual: 0.2\n"
          ],
          "name": "stdout"
        }
      ]
    },
    {
      "cell_type": "markdown",
      "metadata": {
        "id": "JgomxIR6AmIm"
      },
      "source": [
        "### Qual(is) variável(is) interferem no consumo de energia?\n",
        "*Vimos nas células acima, que algumas variáveis possuem uma correlação significativa com a variável kWh_per_ton, e <b>cinco</b> delas de maneira especial me <b>chamaram atenção</b>, que foram: a quantidade carregada do tipo de materia prima 2 <b>[ChargeMaterial_Type2]</b>, o Kilograma de carbono injetado por tonelada <b>[Carbon_kg_t]</b>, o Metro cúbico de oxigênio por tonelada <b>[Oxygen_Nm3_t]</b>, o Metro cúbico de gás natural por tonelada <b>[NaturalGas_Nm3_t]</b> e a Temperatura inicial da materia prima <b>[RawMaterial_InitialTemperatura]</b>.* \\\n",
        "*Nesse passo elaboraremos um <b>modelo geral</b>, um <b>mais específico</b> com as variáveis mais importantes a partir de uma modelo baseado em árvore, e um último contendo somente essas <b>5 variáveis</b> relatadas na hipótese, contendo grande parte das variáveis que podem ser relevantes, seguiremos algumas <b>normas</b>: Quantidade de valores ausentes menor que 20%, não imputaremos dados devido a falta de informação e conhecimento sobre o domínio, treino e teste (70%,30%) e como visto anteriormente, o consumo de energia está bem relacionado com o tempo que a máquina esteve ligado, dada esse situação até um pouco óbvia, tiraremos as variáveis referente ao tempo que esteve ligada e desligada, e variáveis que não conseguimos saber o seu valor antes do momneto de término do processo.*"
      ]
    },
    {
      "cell_type": "code",
      "metadata": {
        "colab": {
          "base_uri": "https://localhost:8080/",
          "height": 224
        },
        "id": "o9IkA3bOE50X",
        "outputId": "0e8cd5c3-a0e8-4bf5-fb25-020b4e70ca4f"
      },
      "source": [
        "data = pd.read_csv('drive/My Drive/teste-vetta/datasets/furnace_data.csv')\n",
        "\n",
        "data.drop(['Unnamed: 0','ChargeMaterial_Type99','ChargeMaterial_Type2','RawMaterialType2',\n",
        "           'Power_ON','Power_OFF','Tap_to_Tap','FinalHeatWeight','ProductionDate'],axis=1,inplace=True)\n",
        "data.dropna(axis=0,inplace=True)\n",
        "data.head()"
      ],
      "execution_count": 32,
      "outputs": [
        {
          "output_type": "execute_result",
          "data": {
            "text/html": [
              "<div>\n",
              "<style scoped>\n",
              "    .dataframe tbody tr th:only-of-type {\n",
              "        vertical-align: middle;\n",
              "    }\n",
              "\n",
              "    .dataframe tbody tr th {\n",
              "        vertical-align: top;\n",
              "    }\n",
              "\n",
              "    .dataframe thead th {\n",
              "        text-align: right;\n",
              "    }\n",
              "</style>\n",
              "<table border=\"1\" class=\"dataframe\">\n",
              "  <thead>\n",
              "    <tr style=\"text-align: right;\">\n",
              "      <th></th>\n",
              "      <th>RawMaterialType1</th>\n",
              "      <th>ChargeMaterial_Type1</th>\n",
              "      <th>TotalCharge_sumAllTypes</th>\n",
              "      <th>Yield</th>\n",
              "      <th>kWh_per_ton</th>\n",
              "      <th>NaturalGas_Nm3_t</th>\n",
              "      <th>Oxygen_Nm3_t</th>\n",
              "      <th>Carbon_kg_t</th>\n",
              "      <th>InitalTemperature</th>\n",
              "      <th>RawMaterial_InitialTemperature</th>\n",
              "    </tr>\n",
              "  </thead>\n",
              "  <tbody>\n",
              "    <tr>\n",
              "      <th>0</th>\n",
              "      <td>RawMaterialHot3</td>\n",
              "      <td>178.230034</td>\n",
              "      <td>200.850909</td>\n",
              "      <td>64.228228</td>\n",
              "      <td>623.286155</td>\n",
              "      <td>4.243831</td>\n",
              "      <td>61.894745</td>\n",
              "      <td>33.286255</td>\n",
              "      <td>1729.636046</td>\n",
              "      <td>463.353003</td>\n",
              "    </tr>\n",
              "    <tr>\n",
              "      <th>1</th>\n",
              "      <td>RawMaterialHot3</td>\n",
              "      <td>167.424553</td>\n",
              "      <td>167.424553</td>\n",
              "      <td>77.659241</td>\n",
              "      <td>479.024764</td>\n",
              "      <td>2.063817</td>\n",
              "      <td>39.428434</td>\n",
              "      <td>23.405620</td>\n",
              "      <td>1696.228745</td>\n",
              "      <td>446.679316</td>\n",
              "    </tr>\n",
              "    <tr>\n",
              "      <th>2</th>\n",
              "      <td>RawMaterialHot3</td>\n",
              "      <td>126.397474</td>\n",
              "      <td>141.820797</td>\n",
              "      <td>93.501580</td>\n",
              "      <td>462.362279</td>\n",
              "      <td>2.700406</td>\n",
              "      <td>39.866427</td>\n",
              "      <td>28.714682</td>\n",
              "      <td>1735.024320</td>\n",
              "      <td>462.475441</td>\n",
              "    </tr>\n",
              "    <tr>\n",
              "      <th>3</th>\n",
              "      <td>RawMaterialHot3</td>\n",
              "      <td>149.145804</td>\n",
              "      <td>149.145804</td>\n",
              "      <td>85.966075</td>\n",
              "      <td>426.540126</td>\n",
              "      <td>1.880451</td>\n",
              "      <td>36.993015</td>\n",
              "      <td>19.640511</td>\n",
              "      <td>1704.849984</td>\n",
              "      <td>452.822253</td>\n",
              "    </tr>\n",
              "    <tr>\n",
              "      <th>4</th>\n",
              "      <td>RawMaterialHot3</td>\n",
              "      <td>149.189741</td>\n",
              "      <td>149.189741</td>\n",
              "      <td>87.291628</td>\n",
              "      <td>424.213267</td>\n",
              "      <td>1.834266</td>\n",
              "      <td>35.368881</td>\n",
              "      <td>17.568409</td>\n",
              "      <td>1681.141577</td>\n",
              "      <td>443.169066</td>\n",
              "    </tr>\n",
              "  </tbody>\n",
              "</table>\n",
              "</div>"
            ],
            "text/plain": [
              "  RawMaterialType1  ...  RawMaterial_InitialTemperature\n",
              "0  RawMaterialHot3  ...                      463.353003\n",
              "1  RawMaterialHot3  ...                      446.679316\n",
              "2  RawMaterialHot3  ...                      462.475441\n",
              "3  RawMaterialHot3  ...                      452.822253\n",
              "4  RawMaterialHot3  ...                      443.169066\n",
              "\n",
              "[5 rows x 10 columns]"
            ]
          },
          "metadata": {
            "tags": []
          },
          "execution_count": 32
        }
      ]
    },
    {
      "cell_type": "code",
      "metadata": {
        "colab": {
          "base_uri": "https://localhost:8080/",
          "height": 317
        },
        "id": "UjYf3ivNTbEl",
        "outputId": "dfa7b4c6-78a9-4a5b-ea8c-da93b12c42ab"
      },
      "source": [
        "data.describe()"
      ],
      "execution_count": 33,
      "outputs": [
        {
          "output_type": "execute_result",
          "data": {
            "text/html": [
              "<div>\n",
              "<style scoped>\n",
              "    .dataframe tbody tr th:only-of-type {\n",
              "        vertical-align: middle;\n",
              "    }\n",
              "\n",
              "    .dataframe tbody tr th {\n",
              "        vertical-align: top;\n",
              "    }\n",
              "\n",
              "    .dataframe thead th {\n",
              "        text-align: right;\n",
              "    }\n",
              "</style>\n",
              "<table border=\"1\" class=\"dataframe\">\n",
              "  <thead>\n",
              "    <tr style=\"text-align: right;\">\n",
              "      <th></th>\n",
              "      <th>ChargeMaterial_Type1</th>\n",
              "      <th>TotalCharge_sumAllTypes</th>\n",
              "      <th>Yield</th>\n",
              "      <th>kWh_per_ton</th>\n",
              "      <th>NaturalGas_Nm3_t</th>\n",
              "      <th>Oxygen_Nm3_t</th>\n",
              "      <th>Carbon_kg_t</th>\n",
              "      <th>InitalTemperature</th>\n",
              "      <th>RawMaterial_InitialTemperature</th>\n",
              "    </tr>\n",
              "  </thead>\n",
              "  <tbody>\n",
              "    <tr>\n",
              "      <th>count</th>\n",
              "      <td>15286.000000</td>\n",
              "      <td>15286.000000</td>\n",
              "      <td>15286.000000</td>\n",
              "      <td>15286.000000</td>\n",
              "      <td>15286.000000</td>\n",
              "      <td>15286.000000</td>\n",
              "      <td>15286.000000</td>\n",
              "      <td>1.528600e+04</td>\n",
              "      <td>15286.000000</td>\n",
              "    </tr>\n",
              "    <tr>\n",
              "      <th>mean</th>\n",
              "      <td>139.334140</td>\n",
              "      <td>148.697420</td>\n",
              "      <td>87.967356</td>\n",
              "      <td>427.802658</td>\n",
              "      <td>2.313589</td>\n",
              "      <td>33.116918</td>\n",
              "      <td>15.616655</td>\n",
              "      <td>2.755835e+03</td>\n",
              "      <td>482.418430</td>\n",
              "    </tr>\n",
              "    <tr>\n",
              "      <th>std</th>\n",
              "      <td>17.310652</td>\n",
              "      <td>9.697769</td>\n",
              "      <td>9.452952</td>\n",
              "      <td>45.801019</td>\n",
              "      <td>1.025688</td>\n",
              "      <td>4.646937</td>\n",
              "      <td>4.321817</td>\n",
              "      <td>1.313546e+05</td>\n",
              "      <td>25.519720</td>\n",
              "    </tr>\n",
              "    <tr>\n",
              "      <th>min</th>\n",
              "      <td>0.010984</td>\n",
              "      <td>21.369612</td>\n",
              "      <td>57.460329</td>\n",
              "      <td>91.455495</td>\n",
              "      <td>0.000000</td>\n",
              "      <td>9.385882</td>\n",
              "      <td>0.070061</td>\n",
              "      <td>-1.634802e+03</td>\n",
              "      <td>24.571750</td>\n",
              "    </tr>\n",
              "    <tr>\n",
              "      <th>25%</th>\n",
              "      <td>133.697490</td>\n",
              "      <td>146.027155</td>\n",
              "      <td>85.504715</td>\n",
              "      <td>403.954217</td>\n",
              "      <td>1.644368</td>\n",
              "      <td>29.907285</td>\n",
              "      <td>12.424673</td>\n",
              "      <td>1.672520e+03</td>\n",
              "      <td>468.618378</td>\n",
              "    </tr>\n",
              "    <tr>\n",
              "      <th>50%</th>\n",
              "      <td>145.905458</td>\n",
              "      <td>149.020983</td>\n",
              "      <td>87.527285</td>\n",
              "      <td>423.283898</td>\n",
              "      <td>2.043022</td>\n",
              "      <td>32.544820</td>\n",
              "      <td>15.262221</td>\n",
              "      <td>1.692996e+03</td>\n",
              "      <td>483.536941</td>\n",
              "    </tr>\n",
              "    <tr>\n",
              "      <th>75%</th>\n",
              "      <td>149.530252</td>\n",
              "      <td>151.276244</td>\n",
              "      <td>89.785697</td>\n",
              "      <td>445.155584</td>\n",
              "      <td>2.912747</td>\n",
              "      <td>35.899114</td>\n",
              "      <td>17.951504</td>\n",
              "      <td>1.713471e+03</td>\n",
              "      <td>497.577941</td>\n",
              "    </tr>\n",
              "    <tr>\n",
              "      <th>max</th>\n",
              "      <td>193.783697</td>\n",
              "      <td>214.198393</td>\n",
              "      <td>583.599079</td>\n",
              "      <td>1060.401909</td>\n",
              "      <td>43.272752</td>\n",
              "      <td>81.647949</td>\n",
              "      <td>58.010129</td>\n",
              "      <td>1.624192e+07</td>\n",
              "      <td>555.497066</td>\n",
              "    </tr>\n",
              "  </tbody>\n",
              "</table>\n",
              "</div>"
            ],
            "text/plain": [
              "       ChargeMaterial_Type1  ...  RawMaterial_InitialTemperature\n",
              "count          15286.000000  ...                    15286.000000\n",
              "mean             139.334140  ...                      482.418430\n",
              "std               17.310652  ...                       25.519720\n",
              "min                0.010984  ...                       24.571750\n",
              "25%              133.697490  ...                      468.618378\n",
              "50%              145.905458  ...                      483.536941\n",
              "75%              149.530252  ...                      497.577941\n",
              "max              193.783697  ...                      555.497066\n",
              "\n",
              "[8 rows x 9 columns]"
            ]
          },
          "metadata": {
            "tags": []
          },
          "execution_count": 33
        }
      ]
    },
    {
      "cell_type": "markdown",
      "metadata": {
        "id": "jecGYjLYF4G_"
      },
      "source": [
        "*Aqui, <b>transformarei</b> a coluna <b>RawMaterialType1</b>, que é uma variável discreta nominal para uma variável numérica, usando como codificação: 1 para RawMaterialHot1 e 3 para RawMaterialHot3.*"
      ]
    },
    {
      "cell_type": "code",
      "metadata": {
        "colab": {
          "base_uri": "https://localhost:8080/",
          "height": 0
        },
        "id": "m6GOP5N3Fz3O",
        "outputId": "d7af4a14-ca3d-444e-8097-b95ed39e80c5"
      },
      "source": [
        "data.RawMaterialType1.value_counts()"
      ],
      "execution_count": 34,
      "outputs": [
        {
          "output_type": "execute_result",
          "data": {
            "text/plain": [
              "RawMaterialHot1    7763\n",
              "RawMaterialHot3    7523\n",
              "Name: RawMaterialType1, dtype: int64"
            ]
          },
          "metadata": {
            "tags": []
          },
          "execution_count": 34
        }
      ]
    },
    {
      "cell_type": "code",
      "metadata": {
        "colab": {
          "base_uri": "https://localhost:8080/",
          "height": 224
        },
        "id": "-DszoFNxG4Eb",
        "outputId": "d179b1cd-3479-4ff9-94f6-663482cbd4f5"
      },
      "source": [
        "data['RawMaterialType1_cod'] = data['RawMaterialType1'].apply(lambda x : 1 if x == 'RawMaterialHot1' else 3)\n",
        "data.head()"
      ],
      "execution_count": 35,
      "outputs": [
        {
          "output_type": "execute_result",
          "data": {
            "text/html": [
              "<div>\n",
              "<style scoped>\n",
              "    .dataframe tbody tr th:only-of-type {\n",
              "        vertical-align: middle;\n",
              "    }\n",
              "\n",
              "    .dataframe tbody tr th {\n",
              "        vertical-align: top;\n",
              "    }\n",
              "\n",
              "    .dataframe thead th {\n",
              "        text-align: right;\n",
              "    }\n",
              "</style>\n",
              "<table border=\"1\" class=\"dataframe\">\n",
              "  <thead>\n",
              "    <tr style=\"text-align: right;\">\n",
              "      <th></th>\n",
              "      <th>RawMaterialType1</th>\n",
              "      <th>ChargeMaterial_Type1</th>\n",
              "      <th>TotalCharge_sumAllTypes</th>\n",
              "      <th>Yield</th>\n",
              "      <th>kWh_per_ton</th>\n",
              "      <th>NaturalGas_Nm3_t</th>\n",
              "      <th>Oxygen_Nm3_t</th>\n",
              "      <th>Carbon_kg_t</th>\n",
              "      <th>InitalTemperature</th>\n",
              "      <th>RawMaterial_InitialTemperature</th>\n",
              "      <th>RawMaterialType1_cod</th>\n",
              "    </tr>\n",
              "  </thead>\n",
              "  <tbody>\n",
              "    <tr>\n",
              "      <th>0</th>\n",
              "      <td>RawMaterialHot3</td>\n",
              "      <td>178.230034</td>\n",
              "      <td>200.850909</td>\n",
              "      <td>64.228228</td>\n",
              "      <td>623.286155</td>\n",
              "      <td>4.243831</td>\n",
              "      <td>61.894745</td>\n",
              "      <td>33.286255</td>\n",
              "      <td>1729.636046</td>\n",
              "      <td>463.353003</td>\n",
              "      <td>3</td>\n",
              "    </tr>\n",
              "    <tr>\n",
              "      <th>1</th>\n",
              "      <td>RawMaterialHot3</td>\n",
              "      <td>167.424553</td>\n",
              "      <td>167.424553</td>\n",
              "      <td>77.659241</td>\n",
              "      <td>479.024764</td>\n",
              "      <td>2.063817</td>\n",
              "      <td>39.428434</td>\n",
              "      <td>23.405620</td>\n",
              "      <td>1696.228745</td>\n",
              "      <td>446.679316</td>\n",
              "      <td>3</td>\n",
              "    </tr>\n",
              "    <tr>\n",
              "      <th>2</th>\n",
              "      <td>RawMaterialHot3</td>\n",
              "      <td>126.397474</td>\n",
              "      <td>141.820797</td>\n",
              "      <td>93.501580</td>\n",
              "      <td>462.362279</td>\n",
              "      <td>2.700406</td>\n",
              "      <td>39.866427</td>\n",
              "      <td>28.714682</td>\n",
              "      <td>1735.024320</td>\n",
              "      <td>462.475441</td>\n",
              "      <td>3</td>\n",
              "    </tr>\n",
              "    <tr>\n",
              "      <th>3</th>\n",
              "      <td>RawMaterialHot3</td>\n",
              "      <td>149.145804</td>\n",
              "      <td>149.145804</td>\n",
              "      <td>85.966075</td>\n",
              "      <td>426.540126</td>\n",
              "      <td>1.880451</td>\n",
              "      <td>36.993015</td>\n",
              "      <td>19.640511</td>\n",
              "      <td>1704.849984</td>\n",
              "      <td>452.822253</td>\n",
              "      <td>3</td>\n",
              "    </tr>\n",
              "    <tr>\n",
              "      <th>4</th>\n",
              "      <td>RawMaterialHot3</td>\n",
              "      <td>149.189741</td>\n",
              "      <td>149.189741</td>\n",
              "      <td>87.291628</td>\n",
              "      <td>424.213267</td>\n",
              "      <td>1.834266</td>\n",
              "      <td>35.368881</td>\n",
              "      <td>17.568409</td>\n",
              "      <td>1681.141577</td>\n",
              "      <td>443.169066</td>\n",
              "      <td>3</td>\n",
              "    </tr>\n",
              "  </tbody>\n",
              "</table>\n",
              "</div>"
            ],
            "text/plain": [
              "  RawMaterialType1  ...  RawMaterialType1_cod\n",
              "0  RawMaterialHot3  ...                     3\n",
              "1  RawMaterialHot3  ...                     3\n",
              "2  RawMaterialHot3  ...                     3\n",
              "3  RawMaterialHot3  ...                     3\n",
              "4  RawMaterialHot3  ...                     3\n",
              "\n",
              "[5 rows x 11 columns]"
            ]
          },
          "metadata": {
            "tags": []
          },
          "execution_count": 35
        }
      ]
    },
    {
      "cell_type": "code",
      "metadata": {
        "id": "-ISDaVt4Heb5"
      },
      "source": [
        "data.drop('RawMaterialType1',axis=1,inplace=True)"
      ],
      "execution_count": 36,
      "outputs": []
    },
    {
      "cell_type": "markdown",
      "metadata": {
        "id": "_A91czb3HkpB"
      },
      "source": [
        "*Pronto, agora definiremos o dataset de treino e teste.*"
      ]
    },
    {
      "cell_type": "code",
      "metadata": {
        "id": "SugOeSuyHj1q"
      },
      "source": [
        "X = data.drop('kWh_per_ton',axis=1)\n",
        "y = data.kWh_per_ton\n",
        "\n",
        "X_train, X_test, y_train, y_test = train_test_split(X,y,test_size=0.3)"
      ],
      "execution_count": 37,
      "outputs": []
    },
    {
      "cell_type": "markdown",
      "metadata": {
        "id": "xUs8tiN6Igih"
      },
      "source": [
        "*Lembrando que usaremos a Random Forest somente para verificar as <b>variáveis</b> que foram <b>mais importantes</b> nesse modelo.*"
      ]
    },
    {
      "cell_type": "code",
      "metadata": {
        "id": "xxT-XOklOvX0",
        "colab": {
          "base_uri": "https://localhost:8080/",
          "height": 0
        },
        "outputId": "f2692ff8-4d8d-4bdf-c8eb-feb6e9a88c5e"
      },
      "source": [
        "rf = RandomForestRegressor()\n",
        "rf.fit(X,y)"
      ],
      "execution_count": 38,
      "outputs": [
        {
          "output_type": "execute_result",
          "data": {
            "text/plain": [
              "RandomForestRegressor(bootstrap=True, ccp_alpha=0.0, criterion='mse',\n",
              "                      max_depth=None, max_features='auto', max_leaf_nodes=None,\n",
              "                      max_samples=None, min_impurity_decrease=0.0,\n",
              "                      min_impurity_split=None, min_samples_leaf=1,\n",
              "                      min_samples_split=2, min_weight_fraction_leaf=0.0,\n",
              "                      n_estimators=100, n_jobs=None, oob_score=False,\n",
              "                      random_state=None, verbose=0, warm_start=False)"
            ]
          },
          "metadata": {
            "tags": []
          },
          "execution_count": 38
        }
      ]
    },
    {
      "cell_type": "code",
      "metadata": {
        "colab": {
          "base_uri": "https://localhost:8080/",
          "height": 296
        },
        "id": "0qKEiVGTJ9pr",
        "outputId": "b62c1604-8fb2-4f84-dead-f2d869a9bbc1"
      },
      "source": [
        "importancia = rf.feature_importances_\n",
        "\n",
        "plt.figure()\n",
        "plt.title(\"Importância das variáveis\")\n",
        "sns.barplot(y = X.columns,x = importancia,orient='h',\n",
        "            palette='Blues_d')\n",
        "plt.xlabel('Importância')\n",
        "plt.show()"
      ],
      "execution_count": 39,
      "outputs": [
        {
          "output_type": "display_data",
          "data": {
            "image/png": "[encoded data removed]",
            "text/plain": [
              "<Figure size 432x288 with 1 Axes>"
            ]
          },
          "metadata": {
            "tags": [],
            "needs_background": "light"
          }
        }
      ]
    },
    {
      "cell_type": "markdown",
      "metadata": {
        "id": "Qu27P_2KLo97"
      },
      "source": [
        "*Como vimos acima, as variáveis que foram mais importantes foram o total de matéria prima utilizada, o metro cúbico de gás natural por tonelada, o tempo do processo, a quantidade de carvão injetado e a quantidade de matéria prima 1. Logo, esse será nosso <b>modelo 2</b>.*"
      ]
    },
    {
      "cell_type": "markdown",
      "metadata": {
        "id": "qmizI6ZkJ9ee"
      },
      "source": [
        "## Modelos"
      ]
    },
    {
      "cell_type": "markdown",
      "metadata": {
        "id": "VF52T5MmOJfE"
      },
      "source": [
        "### Modelos para prever consumo"
      ]
    },
    {
      "cell_type": "code",
      "metadata": {
        "id": "zsx4ZMeOLiMI"
      },
      "source": [
        "cols1 = ['ChargeMaterial_Type1', 'TotalCharge_sumAllTypes', 'NaturalGas_Nm3_t',\n",
        "       'Oxygen_Nm3_t', 'Carbon_kg_t', 'InitalTemperature',\n",
        "       'RawMaterial_InitialTemperature', 'RawMaterialType1_cod']\n",
        "\n",
        "cols2 = ['ChargeMaterial_Type1', 'TotalCharge_sumAllTypes', 'NaturalGas_Nm3_t',\n",
        "       'Oxygen_Nm3_t', 'Carbon_kg_t']\n",
        "\n",
        "cols3 = ['NaturalGas_Nm3_t','Oxygen_Nm3_t', 'Carbon_kg_t','RawMaterial_InitialTemperature']"
      ],
      "execution_count": 69,
      "outputs": []
    },
    {
      "cell_type": "code",
      "metadata": {
        "colab": {
          "base_uri": "https://localhost:8080/",
          "height": 0
        },
        "id": "W8IIzsqmJANE",
        "outputId": "29f146df-81d2-41cc-98d6-28664498c813"
      },
      "source": [
        "X1 = data[cols1]\n",
        "y = data['kWh_per_ton']\n",
        "X_train, X_test, y_train, y_test = train_test_split(X1,y,test_size=0.3)\n",
        "\n",
        "modelo1 = LinearRegression()\n",
        "modelo1.fit(X_train,y_train)\n",
        "pred = modelo1.predict(X_test)\n",
        "\n",
        "print('MAE: %.2f' % metrics.mean_absolute_error(y_test,pred))\n",
        "print('MSE: %.2f' % metrics.mean_squared_error(y_test,pred))\n",
        "print('RMSE: %.2f' % np.sqrt(metrics.mean_squared_error(y_test,pred)))"
      ],
      "execution_count": 70,
      "outputs": [
        {
          "output_type": "stream",
          "text": [
            "MAE: 15.80\n",
            "MSE: 518.18\n",
            "RMSE: 22.76\n"
          ],
          "name": "stdout"
        }
      ]
    },
    {
      "cell_type": "code",
      "metadata": {
        "colab": {
          "base_uri": "https://localhost:8080/",
          "height": 0
        },
        "id": "zd11nek0PVF9",
        "outputId": "0b1c4b5e-a892-4e4d-c96d-7bd313a155be"
      },
      "source": [
        "X2 = data[cols2]\n",
        "y = data['kWh_per_ton']\n",
        "X_train, X_test, y_train, y_test = train_test_split(X2,y,test_size=0.3)\n",
        "\n",
        "modelo2 = LinearRegression()\n",
        "modelo2.fit(X_train,y_train)\n",
        "pred = modelo2.predict(X_test)\n",
        "\n",
        "print('MAE: %.2f' % metrics.mean_absolute_error(y_test,pred))\n",
        "print('MSE: %.2f' % metrics.mean_squared_error(y_test,pred))\n",
        "print('RMSE: %.2f' % np.sqrt(metrics.mean_squared_error(y_test,pred)))"
      ],
      "execution_count": 71,
      "outputs": [
        {
          "output_type": "stream",
          "text": [
            "MAE: 16.61\n",
            "MSE: 528.88\n",
            "RMSE: 23.00\n"
          ],
          "name": "stdout"
        }
      ]
    },
    {
      "cell_type": "code",
      "metadata": {
        "colab": {
          "base_uri": "https://localhost:8080/",
          "height": 0
        },
        "id": "d_9R_U9CQzr_",
        "outputId": "1ee32f7b-0d33-4f23-c67c-fd31716b69be"
      },
      "source": [
        "X3 = data[cols3]\n",
        "y = data['kWh_per_ton']\n",
        "X_train, X_test, y_train, y_test = train_test_split(X3,y,test_size=0.3)\n",
        "\n",
        "modelo3 = LinearRegression()\n",
        "modelo3.fit(X_train,y_train)\n",
        "pred = modelo3.predict(X_test)\n",
        "\n",
        "print('MAE: %.2f' % metrics.mean_absolute_error(y_test,pred))\n",
        "print('MSE: %.2f' % metrics.mean_squared_error(y_test,pred))\n",
        "print('RMSE: %.2f' % np.sqrt(metrics.mean_squared_error(y_test,pred)))"
      ],
      "execution_count": 72,
      "outputs": [
        {
          "output_type": "stream",
          "text": [
            "MAE: 20.97\n",
            "MSE: 1074.74\n",
            "RMSE: 32.78\n"
          ],
          "name": "stdout"
        }
      ]
    },
    {
      "cell_type": "markdown",
      "metadata": {
        "id": "UvuqEPGeR3nd"
      },
      "source": [
        "*Os modelos 1 e 2 se performaram melhor, com isso vamos olhar os coeficientes e buscar entender a função geradora de consumo e como podemos reduzir esse impacto no consumo de energia.*"
      ]
    },
    {
      "cell_type": "code",
      "metadata": {
        "colab": {
          "base_uri": "https://localhost:8080/",
          "height": 204
        },
        "id": "cIgZh2tUQ1cU",
        "outputId": "5bc2afb4-0547-4bbd-a2d5-f6a6206ad74f"
      },
      "source": [
        "coef_df = pd.DataFrame(modelo2.coef_,index=X2.columns,columns=['Coeficientes'])\n",
        "coef_df"
      ],
      "execution_count": 73,
      "outputs": [
        {
          "output_type": "execute_result",
          "data": {
            "text/html": [
              "<div>\n",
              "<style scoped>\n",
              "    .dataframe tbody tr th:only-of-type {\n",
              "        vertical-align: middle;\n",
              "    }\n",
              "\n",
              "    .dataframe tbody tr th {\n",
              "        vertical-align: top;\n",
              "    }\n",
              "\n",
              "    .dataframe thead th {\n",
              "        text-align: right;\n",
              "    }\n",
              "</style>\n",
              "<table border=\"1\" class=\"dataframe\">\n",
              "  <thead>\n",
              "    <tr style=\"text-align: right;\">\n",
              "      <th></th>\n",
              "      <th>Coeficientes</th>\n",
              "    </tr>\n",
              "  </thead>\n",
              "  <tbody>\n",
              "    <tr>\n",
              "      <th>ChargeMaterial_Type1</th>\n",
              "      <td>-0.663006</td>\n",
              "    </tr>\n",
              "    <tr>\n",
              "      <th>TotalCharge_sumAllTypes</th>\n",
              "      <td>3.235163</td>\n",
              "    </tr>\n",
              "    <tr>\n",
              "      <th>NaturalGas_Nm3_t</th>\n",
              "      <td>5.234945</td>\n",
              "    </tr>\n",
              "    <tr>\n",
              "      <th>Oxygen_Nm3_t</th>\n",
              "      <td>-0.130339</td>\n",
              "    </tr>\n",
              "    <tr>\n",
              "      <th>Carbon_kg_t</th>\n",
              "      <td>3.073937</td>\n",
              "    </tr>\n",
              "  </tbody>\n",
              "</table>\n",
              "</div>"
            ],
            "text/plain": [
              "                         Coeficientes\n",
              "ChargeMaterial_Type1        -0.663006\n",
              "TotalCharge_sumAllTypes      3.235163\n",
              "NaturalGas_Nm3_t             5.234945\n",
              "Oxygen_Nm3_t                -0.130339\n",
              "Carbon_kg_t                  3.073937"
            ]
          },
          "metadata": {
            "tags": []
          },
          "execution_count": 73
        }
      ]
    },
    {
      "cell_type": "markdown",
      "metadata": {
        "id": "FN6ZNv-F9nfi"
      },
      "source": [
        "### Modelos para prever rendimento"
      ]
    },
    {
      "cell_type": "code",
      "metadata": {
        "id": "TUkENq9s9nfi"
      },
      "source": [
        "cols1 = ['ChargeMaterial_Type1', 'TotalCharge_sumAllTypes', 'NaturalGas_Nm3_t',\n",
        "       'Oxygen_Nm3_t', 'Carbon_kg_t', 'InitalTemperature',\n",
        "       'RawMaterial_InitialTemperature', 'RawMaterialType1_cod']\n",
        "\n",
        "cols2 = ['ChargeMaterial_Type1', 'TotalCharge_sumAllTypes', 'NaturalGas_Nm3_t',\n",
        "       'Oxygen_Nm3_t', 'Carbon_kg_t']\n",
        "\n",
        "cols3 = ['NaturalGas_Nm3_t','Oxygen_Nm3_t', 'Carbon_kg_t','RawMaterial_InitialTemperature']"
      ],
      "execution_count": 60,
      "outputs": []
    },
    {
      "cell_type": "code",
      "metadata": {
        "colab": {
          "base_uri": "https://localhost:8080/",
          "height": 0
        },
        "id": "JeUgFaX-9nfj",
        "outputId": "96671601-5389-4fea-c8ba-8f93629c6aba"
      },
      "source": [
        "X1 = data[cols1]\n",
        "y = data['Yield']\n",
        "X_train, X_test, y_train, y_test = train_test_split(X1,y,test_size=0.3)\n",
        "\n",
        "modelo1 = LinearRegression()\n",
        "modelo1.fit(X_train,y_train)\n",
        "pred = modelo1.predict(X_test)\n",
        "\n",
        "print('MAE: %.2f' % metrics.mean_absolute_error(y_test,pred))\n",
        "print('MSE: %.2f' % metrics.mean_squared_error(y_test,pred))\n",
        "print('RMSE: %.2f' % np.sqrt(metrics.mean_squared_error(y_test,pred)))"
      ],
      "execution_count": 61,
      "outputs": [
        {
          "output_type": "stream",
          "text": [
            "MAE: 4.48\n",
            "MSE: 26152.76\n",
            "RMSE: 161.72\n"
          ],
          "name": "stdout"
        }
      ]
    },
    {
      "cell_type": "code",
      "metadata": {
        "colab": {
          "base_uri": "https://localhost:8080/",
          "height": 0
        },
        "id": "rmFhG3Eg9nfk",
        "outputId": "8da5971b-444d-4e54-e146-445281516386"
      },
      "source": [
        "X2 = data[cols2]\n",
        "y = data['Yield']\n",
        "X_train, X_test, y_train, y_test = train_test_split(X2,y,test_size=0.3)\n",
        "\n",
        "modelo2 = LinearRegression()\n",
        "modelo2.fit(X_train,y_train)\n",
        "pred = modelo2.predict(X_test)\n",
        "\n",
        "print('MAE: %.2f' % metrics.mean_absolute_error(y_test,pred))\n",
        "print('MSE: %.2f' % metrics.mean_squared_error(y_test,pred))\n",
        "print('RMSE: %.2f' % np.sqrt(metrics.mean_squared_error(y_test,pred)))"
      ],
      "execution_count": 62,
      "outputs": [
        {
          "output_type": "stream",
          "text": [
            "MAE: 2.26\n",
            "MSE: 51.83\n",
            "RMSE: 7.20\n"
          ],
          "name": "stdout"
        }
      ]
    },
    {
      "cell_type": "code",
      "metadata": {
        "colab": {
          "base_uri": "https://localhost:8080/",
          "height": 0
        },
        "id": "Fg6dm7bp9nfl",
        "outputId": "a6377eee-0b7f-4d80-9539-fede312e42ff"
      },
      "source": [
        "X3 = data[cols3]\n",
        "y = data['Yield']\n",
        "X_train, X_test, y_train, y_test = train_test_split(X3,y,test_size=0.3)\n",
        "\n",
        "modelo3 = LinearRegression()\n",
        "modelo3.fit(X_train,y_train)\n",
        "pred = modelo3.predict(X_test)\n",
        "\n",
        "print('MAE: %.2f' % metrics.mean_absolute_error(y_test,pred))\n",
        "print('MSE: %.2f' % metrics.mean_squared_error(y_test,pred))\n",
        "print('RMSE: %.2f' % np.sqrt(metrics.mean_squared_error(y_test,pred)))"
      ],
      "execution_count": 63,
      "outputs": [
        {
          "output_type": "stream",
          "text": [
            "MAE: 3.60\n",
            "MSE: 101.04\n",
            "RMSE: 10.05\n"
          ],
          "name": "stdout"
        }
      ]
    },
    {
      "cell_type": "markdown",
      "metadata": {
        "id": "O1sRdsGj9nfm"
      },
      "source": [
        "*Os modelos 1 e 2 se performaram melhor, com isso vamos olhar os coeficientes e buscar entender a função geradora de consumo e como podemos reduzir esse impacto no consumo de energia.*"
      ]
    },
    {
      "cell_type": "code",
      "metadata": {
        "colab": {
          "base_uri": "https://localhost:8080/",
          "height": 204
        },
        "id": "CP0PYL2L9nfm",
        "outputId": "8421dfec-42cd-4e7e-9cf8-ef49b0d37cf2"
      },
      "source": [
        "coef_df = pd.DataFrame(modelo2.coef_,index=X2.columns,columns=['Coeficientes'])\n",
        "coef_df"
      ],
      "execution_count": 65,
      "outputs": [
        {
          "output_type": "execute_result",
          "data": {
            "text/html": [
              "<div>\n",
              "<style scoped>\n",
              "    .dataframe tbody tr th:only-of-type {\n",
              "        vertical-align: middle;\n",
              "    }\n",
              "\n",
              "    .dataframe tbody tr th {\n",
              "        vertical-align: top;\n",
              "    }\n",
              "\n",
              "    .dataframe thead th {\n",
              "        text-align: right;\n",
              "    }\n",
              "</style>\n",
              "<table border=\"1\" class=\"dataframe\">\n",
              "  <thead>\n",
              "    <tr style=\"text-align: right;\">\n",
              "      <th></th>\n",
              "      <th>Coeficientes</th>\n",
              "    </tr>\n",
              "  </thead>\n",
              "  <tbody>\n",
              "    <tr>\n",
              "      <th>ChargeMaterial_Type1</th>\n",
              "      <td>-0.029517</td>\n",
              "    </tr>\n",
              "    <tr>\n",
              "      <th>TotalCharge_sumAllTypes</th>\n",
              "      <td>-0.729729</td>\n",
              "    </tr>\n",
              "    <tr>\n",
              "      <th>NaturalGas_Nm3_t</th>\n",
              "      <td>0.304956</td>\n",
              "    </tr>\n",
              "    <tr>\n",
              "      <th>Oxygen_Nm3_t</th>\n",
              "      <td>-0.168351</td>\n",
              "    </tr>\n",
              "    <tr>\n",
              "      <th>Carbon_kg_t</th>\n",
              "      <td>0.064951</td>\n",
              "    </tr>\n",
              "  </tbody>\n",
              "</table>\n",
              "</div>"
            ],
            "text/plain": [
              "                         Coeficientes\n",
              "ChargeMaterial_Type1        -0.029517\n",
              "TotalCharge_sumAllTypes     -0.729729\n",
              "NaturalGas_Nm3_t             0.304956\n",
              "Oxygen_Nm3_t                -0.168351\n",
              "Carbon_kg_t                  0.064951"
            ]
          },
          "metadata": {
            "tags": []
          },
          "execution_count": 65
        }
      ]
    },
    {
      "cell_type": "markdown",
      "metadata": {
        "id": "ZeBrkYXBqKMt"
      },
      "source": [
        "## Conclusão\n",
        "Nas análises feitas acima descobrimos que os fatores que mais interferem no consumo de energia são: a quantidade carregada do tipo de materia prima 2 <b>[ChargeMaterial_Type2]</b>, o Kilograma de carbono injetado por tonelada <b>[Carbon_kg_t]</b>, o metro cúbico de oxigênio por tonelada <b>[Oxygen_Nm3_t]</b>, o metro cúbico de gás natural por tonelada <b>[NaturalGas_Nm3_t]</b> e a Temperatura inicial da materia prima <b>[RawMaterial_InitialTemperatura]</b>. E para <b>reduzir o consumo de energia</b> encontramos <b>duas alternativas</b> por meio do modelo de Regressão Linear, a <b>primeira</b> consiste em diminuir a quantidade de gás natural por tonelada <b>[NaturalGas_Nm3_t]</b> e/ou diminuir  quantidade do carbono injetado por tonelada <b>[Carbon_Kg_t]</b>, como vimos acima, <b>a cada metro cúbico de gás natural por tonelada adicionado</b> o consumo de energia elétrica <b>aumenta em 5 vezes</b> e <b>a cada kilograma de carbono injetado por tonelada</b> o consumo de energia elétrica <b>aumenta em 3 vezes</b>. \\\n",
        "E na <b>segunda alternativa</b> podemos optar pela <b>escolha do material 3</b> pois se escolhermos ele, teremos uma <b>diminuição de 10.8 KWh/t</b> (-5.40 - (-5.40 * 3) = 10.80) no consumo de energia elétrica (Dados encontrados no modelo matemático 1). \\\n",
        "No outro lado, temos que, para <b>aumentar o rendimento</b> precisamos aumentar a quantidade de gás natural por tonelada <b>[NaturalGas_Nm3_t]</b> e/ou diminuir quantidade de metro cúbico de oxigênio por tonelada <b>[Oxygen_Nm3_t]</b> adicionada. \\\n",
        "Para uma avaliação de <b>consumo x rendimento</b>, escolhi o método simplex da Pesquisa Operacional para exibir tal correlação, podemos pensar em como <b>maximizar o rendimento</b>, olhando somente algumas variáveis e tendo um teto máximo de consumo (Valor máximo de consumo no dataset = 1060.4). Para esse exemplo usei as variáveis dos modelos 2:\n",
        "* X1 = [ChargeMaterial_Type1]\n",
        "* X2 = [TotalCharge_sumAllTypes]\n",
        "* X3 = [NaturalGas_Nm3_t]\n",
        "* X4 = [Oxygen_Nm3_t]\n",
        "* X5 = [Carbon_kg_t] \n",
        "\n",
        "\n",
        "E propus a seguinte formulação matemática através dos coeficientes encontrados pela regressão linear: \\\n",
        "\n",
        "$$\n",
        "\\dot{max} = -0.03X1 + 0.73X2 + 0.3X3 - 0.16X4 + 0.06X5 \\\\\n",
        "\\dot{restrição:} \\\\\n",
        "-0.66X1 + 3.23X2 + 5.23X3 - 0.13X4 + 3.07X5 \\leq 1060.4\n",
        "$$\n",
        "\n",
        "Entretanto a formulação acima possui solução ilimitada pelo método simplex, ou seja, não conseguiu uma solução ótima, reafirmando a dificuldade em ter um alta rendimento e baixo consumo, precisando assim de realizar mais análises. \\\n",
        "Com base nisso, pensando nos problemas citados como: redução do consumo de energia e problemas ambientais gerados, e aumento do rendimento da produção; podemos citar como sugestão dos problemas as opções apresentadas no texto: \n",
        "* Diminuição da quantidade do carbono injetado por tonelada para redução do consumo de energia\n",
        "* Preferência pelo material 3 como matéria prima 1 para redução do consumo de energia\n",
        "* Diminuição da quantidade de metro cúbico de oxigênio por tonelada para aumento do rendimento"
      ]
    },
    {
      "cell_type": "code",
      "metadata": {
        "id": "OPJZHTf8_4xw"
      },
      "source": [
        ""
      ],
      "execution_count": null,
      "outputs": []
    }
  ]
}